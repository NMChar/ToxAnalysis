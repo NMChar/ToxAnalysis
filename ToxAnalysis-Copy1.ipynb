{
 "cells": [
  {
   "cell_type": "code",
   "execution_count": 1,
   "id": "47ec0ca9-d8be-438b-93ee-dab607fdff12",
   "metadata": {},
   "outputs": [],
   "source": [
    "import sys\n",
    "import os\n",
    "\n",
    "package_path = os.path.join(os.getcwd(), \"packages/\")\n",
    "if package_path not in sys.path:\n",
    "    sys.path.insert(0, package_path)\n",
    "\n",
    "import PubChemHazardAPI\n",
    "import PubChemBioactivityAPI\n",
    "import PubChemIdentifiers\n",
    "import PubMedAPI\n",
    "import AssayData\n",
    "import ChemblAPI\n",
    "import CTXAPI\n",
    "\n",
    "import LLMAnalysis # this involves loading a huggingface model (BioGPT-Large) so expect the import block to take a little while - also expect some loading bars. If it's bugging you just comment it out\n",
    "                   # I will point out the single block that uses it later\n",
    "\n",
    "from tqdm import tqdm\n",
    "import time\n",
    "import json\n",
    "\n",
    "import pandas as pd\n",
    "\n",
    "import matplotlib.pyplot as plt\n",
    "import seaborn as sns\n",
    "\n",
    "from dotenv import load_dotenv\n"
   ]
  },
  {
   "cell_type": "markdown",
   "id": "26e8c275-c58d-49dd-aa79-4546d1bbf068",
   "metadata": {},
   "source": [
    "Stepping into a role as a risk-concerned toxicologist conducting a preliminary analysis of the potential hazard posed by some chemical. It could be interesting to look at atrazine, a very common pesticide."
   ]
  },
  {
   "cell_type": "code",
   "execution_count": 2,
   "id": "434e9bdd-21d3-4f3f-98af-cb91245dd5f0",
   "metadata": {},
   "outputs": [
    {
     "name": "stdout",
     "output_type": "stream",
     "text": [
      "C:\\Users\\Nate\\Documents\\Projects\\2025\\ChemicalToxAnalysis\n"
     ]
    }
   ],
   "source": [
    "print(os.getcwd())"
   ]
  },
  {
   "cell_type": "code",
   "execution_count": 3,
   "id": "7c48207d-3ee5-4afe-8fbf-4b6bda3e08eb",
   "metadata": {},
   "outputs": [],
   "source": [
    "CHEMICAL_NAME = 'atrazine'\n",
    "\n",
    "load_dotenv()\n",
    "CTX_API_KEY = os.getenv(\"CTX_API_KEY\")\n",
    "if not CTX_API_KEY:\n",
    "    raise ValueError(\"API key not found. Please set CTX_API_KEY in your .env file.\")"
   ]
  },
  {
   "cell_type": "code",
   "execution_count": 4,
   "id": "055d44ec-fd06-479c-bbf6-140a3d5da497",
   "metadata": {},
   "outputs": [],
   "source": [
    "inchi_key = PubChemIdentifiers.inchi_from_name(CHEMICAL_NAME)\n",
    "# I don't generally trust preferred names so I'm going to convert to Inchi for tracking purposes. In a production environment we would need to be careful in how we map preferred name to Inchikey\n",
    "# Confining scope to handling compounds. Substances would require more upstream handling/thinking\n",
    "pubchem_cid = PubChemIdentifiers.pubchem_cid_from_inchi(inchi_key)"
   ]
  },
  {
   "cell_type": "code",
   "execution_count": 5,
   "id": "092755ef-7cd4-47ea-926e-99c5b24077bb",
   "metadata": {},
   "outputs": [
    {
     "name": "stdout",
     "output_type": "stream",
     "text": [
      "{'developmental': 1, 'mutagen': 2, 'CYP': 3}\n",
      "['Harmful if swallowed Acute toxicity, oral', 'May cause an allergic skin reaction Skin sensitization', 'Causes serious eye irritation Serious eye damage/eye irritation', 'Causes eye irritation Serious eye damage/eye irritation', 'May be harmful if inhaled Acute toxicity, inhalation', 'Suspected of damaging fertility or the unborn child Reproductive toxicity', 'May cause damage to organs Specific target organ toxicity, single exposure', 'May cause damage to organs through prolonged or repeated exposure Specific target organ toxicity, repeated exposure', 'Very toxic to aquatic life Hazardous to the aquatic environment, acute hazard', 'Very toxic to aquatic life with long lasting effects Hazardous to the aquatic environment, long-term hazard']\n"
     ]
    }
   ],
   "source": [
    "assays = PubChemBioactivityAPI.pubchem_bioactivity_summary(pubchem_cid)\n",
    "bioactivity_summary = PubChemBioactivityAPI.bioactivity_json_to_dframe(assays)\n",
    "bioactivity_summary = bioactivity_summary.loc[bioactivity_summary['Activity Outcome'] == 'Active']\n",
    "\n",
    "try: \n",
    "    with open(os.path.join(os.getcwd(), f\"assay_desc_{pubchem_cid}.json\"), \"r\") as fin:\n",
    "        tox_assays = json.load(fin)\n",
    "except:\n",
    "    print(\"No JSON detected. Analyzing assays.\")\n",
    "    tox_assays = {}\n",
    "    for aid in tqdm(bioactivity_summary['AID'], desc=\"Detecting Relevant Assays\"):\n",
    "        assay_desc = PubChemBioactivityAPI.assay_description(aid)\n",
    "        relevance = AssayData.tox_keyword_hits(assay_desc)\n",
    "        if relevance != None:\n",
    "            tox_assays[aid] = {\"keywords\" : relevance, \"desc\" : assay_desc}\n",
    "        # avoid angering pubchem gods - stick to < 5 requests / sec\n",
    "        time.sleep(0.21)\n",
    "    with open(os.path.join(os.getcwd(), f\"assay_desc_{pubchem_cid}.json\"), \"w\") as fout:\n",
    "        json.dump(tox_assays, fout, indent=2)\n",
    "\n",
    "BA_summary = AssayData.summarize_assay_data(tox_assays)\n",
    "GHS_summary = PubChemHazardAPI.summarize_hazard_codes(PubChemHazardAPI.extract_ghs_hazard_codes(pubchem_cid))\n",
    "\n",
    "print(BA_summary)\n",
    "print(GHS_summary['GHS Definitions'])\n"
   ]
  },
  {
   "cell_type": "markdown",
   "id": "54700733-5fec-40f0-aa5f-03027ba53c0f",
   "metadata": {},
   "source": [
    "Extensive hazard code profile and activity in bioassays associated with CYP metabolism/activity, mutagens, and one developmental assay. It's enough that I'd want to pull up the abstracts and check how many of these indicate a true issue. The ecotox is noticeable. In a fully automated setting invoking an LLM would be an option here. Ideally one of the good ones (though the API costs can stack up)."
   ]
  },
  {
   "cell_type": "code",
   "execution_count": 6,
   "id": "7b114e0d-7fbb-4cbb-8674-3aeff62456fa",
   "metadata": {},
   "outputs": [
    {
     "data": {
      "text/plain": [
       "{'keywords': ['developmental'],\n",
       " 'desc': ['U.S. Tox21 Program',\n",
       "  '',\n",
       "  'National Center for Advancing Translational Sciences [NCATS]',\n",
       "  'NIH Chemical Genomics Center [NCGC]',\n",
       "  'U.S. Environmental Protection Agency [EPA]',\n",
       "  'National Institutes of Environmental Health Sciences [NIEHS]',\n",
       "  'National Toxicology Program [NTP]',\n",
       "  'U.S. Food and Drug Administration [FDA]',\n",
       "  '',\n",
       "  'Tox21 Assay Overview:',\n",
       "  '',\n",
       "  'The sonic hedgehog (Shh) pathway is essential for normal embryonic development. Dysregulation of the Shh pathway can cause severe developmental defects in organs. Therefore chemicals that interfere with the pathway are potential developmental toxicants. A cell line designated 3T3Gli1-Luc (DMB/OARSA/CFSAN/FDA, Laurel, MD), a NIH/3T3 derived clone containing stably integrated Gli1-Luc reporter is used to detect chemical interference of the Shh pathway, by changes in the expression of the firefly Luc gene under the control of the Gli1 transcriptional response element. This cell line was used to screen Tox21 libraries for identifying and prioritizing the potential developmental toxicants that interfere Shh pathway. Conditioned medium-stimulated mode was used to screen for chemicals inhibiting Shh signaling. The cytotoxicity of the compounds was tested in parallel by measuring the cell viability using CellTiter-Fluor assay system (Promega, Madison, WI) in the same wells. To differentiate true SHH antagonists from cytotoxic substances, the assay is multiplexed with a cell viability assay.']}"
      ]
     },
     "execution_count": 6,
     "metadata": {},
     "output_type": "execute_result"
    }
   ],
   "source": [
    "tox_assays['1259392'] # pulling the 'developmental' record by its AID. It looks like activity in this assay might represent a genuine devtox concern, but it's hardly an in vivo study"
   ]
  },
  {
   "cell_type": "markdown",
   "id": "72c544d6-2c24-4976-a590-25d5a6671ca9",
   "metadata": {},
   "source": [
    "In the context of further investigating the toxicology of this molecule I would also be interested in the scientific literature. We can programmatically access them using the PubMed APIs. We can grab ten articles from that passed year that referenced the chemical, atrazine, and the keyword 'toxicity'."
   ]
  },
  {
   "cell_type": "code",
   "execution_count": 7,
   "id": "6f757523-3751-4f61-aa84-b1e68be92553",
   "metadata": {},
   "outputs": [
    {
     "name": "stdout",
     "output_type": "stream",
     "text": [
      "1. ACS Omega. 2025 Mar 15;10(11):11264-11273. doi: 10.1021/acsomega.4c10903. \n",
      "eCollection 2025 Mar 25.\n",
      "\n",
      "Aquatic Macrophytes in the Remediation of Atrazine in Water: A Study on \n",
      "Herbicide Tolerance and Degradation Using Eichhornia crassipes, Pistia \n",
      "stratiotes, and Salvinia minima.\n",
      "\n",
      "Ramírez Hernandez MC(1), Nogueira Bandeira J(1), Rosero Alpala DA(1), Pacheco \n",
      "Batista L(1), Silvestre Araújo MA(1), das Chagas PSF(1), Valadao Silva D(1), \n",
      "Costa de Morais ER(2).\n",
      "\n",
      "Author information:\n",
      "(1)Department of Agronomic and Forest Sciences, Federal University of the \n",
      "Semiarid-UFERSA, AV. Francisco Mota, 572 - Pres. Costa E Silva, RN, Mossoró, \n",
      "59625-900 Rio Grande do Norte, Brazil.\n",
      "(2)Engineering Center, Federal University of the Semiarid-UFERSA, AV. Francisco \n",
      "Mota, 572 - Pres. Costa E Silva, RN, Mossoró, 59625-900 Rio Grande do Norte, \n",
      "Brazil.\n",
      "\n",
      "Aquatic macrophytes can be used for herbicide remediation provided they exhibit \n",
      "tolerance to the contaminants. This research assessed the remediation potential \n",
      "of Salvinia minima, Echhornia crassipes, and Pistia stratiotes, some common \n",
      "aquatic macrophytes native to Brazil, and their tolerance to atrazine, an \n",
      "herbicide commonly detected in waterbodies. Plants were cultivated under \n",
      "controlled conditions with five atrazine concentrations (0, 2, 20, 200, and 1000 \n",
      "μg L-1) for 15 days. S. minima and E. crassipes tolerated atrazine \n",
      "concentrations equal to or less than 20 μg L-1 and died at 200 and 1000 μg L-1, \n",
      "indicating the herbicide's potential toxicity and its selectivity against \n",
      "sensitive species. P. stratiotes tolerated the herbicide concentration up to 200 \n",
      "μg L-1 and had its growth reduced at 1000 μg L-1. All species demonstrated the \n",
      "ability to reduce atrazine concentrations in water at 20 μg L-1 or lower, E. \n",
      "crassipes being the most efficient, reducing concentrations by 43% and 22% at 2 \n",
      "and 20 μg L-1, respectively. Atrazine levels within Brazilian (2 μg L-1 by \n",
      "CONAMA 2005) and European (0.1 μg L-1 by Directive 2013/33) regulatory limits do \n",
      "not selectively affect these species. Thus, they show potential for use in \n",
      "arazine phytoremediation programs.\n",
      "\n",
      "© 2025 The Authors. Published by American Chemical Society.\n",
      "\n",
      "DOI: 10.1021/acsomega.4c10903\n",
      "PMCID: PMC11948152\n",
      "PMID: 40160780\n",
      "\n",
      "Conflict of interest statement: The authors declare no competing financial \n",
      "interest.\n"
     ]
    }
   ],
   "source": [
    "pmids = PubMedAPI.get_pubmed_ids(CHEMICAL_NAME)\n",
    "first_abstract = PubMedAPI.get_abstract(pmids[0])\n",
    "print(first_abstract)"
   ]
  },
  {
   "cell_type": "markdown",
   "id": "61803dac-39c3-446a-87a7-5816147deef7",
   "metadata": {},
   "source": [
    "Personally I have no issue reading the literature, but I recognize the point of this exercise is to be considering an agentic system. With this in mind I wanted to explore the utility of an LLM for getting simplied but representative summaries of the abstracts recovered from pubmed. Please note: this method is rough. I think there's promise but it requires work out of scope of this assignment, and more careful validation the LLM is consistently delivering a reliable summary. It looked decent for the few examples I eyeballed, but that's not exactly exhaustive.\n",
    "\n",
    "This function downloads and runs BioGPT-Large from HuggingFace so it will be memory and processor hungry. In a perfect world I'd have an api key to more advanced models, but they charge a corporate rate.\n",
    "\n",
    "*If you commented out the LLM import earlier this block will not work*"
   ]
  },
  {
   "cell_type": "code",
   "execution_count": null,
   "id": "897c80f2-56fd-4068-b2ca-348d412a0a6f",
   "metadata": {},
   "outputs": [],
   "source": [
    "LLMAnalysis.key_finding(first_abstract)"
   ]
  },
  {
   "cell_type": "markdown",
   "id": "4ebe9324-30ac-4c89-9cf4-d69d4903ff7a",
   "metadata": {},
   "source": [
    "Pulling available data for looking at ADME properties could be insightful."
   ]
  },
  {
   "cell_type": "code",
   "execution_count": 8,
   "id": "9286d081-f815-4610-bf24-adf4fb576964",
   "metadata": {},
   "outputs": [
    {
     "data": {
      "text/html": [
       "<div>\n",
       "<style scoped>\n",
       "    .dataframe tbody tr th:only-of-type {\n",
       "        vertical-align: middle;\n",
       "    }\n",
       "\n",
       "    .dataframe tbody tr th {\n",
       "        vertical-align: top;\n",
       "    }\n",
       "\n",
       "    .dataframe thead th {\n",
       "        text-align: right;\n",
       "    }\n",
       "</style>\n",
       "<table border=\"1\" class=\"dataframe\">\n",
       "  <thead>\n",
       "    <tr style=\"text-align: right;\">\n",
       "      <th></th>\n",
       "      <th>assay_chembl_id</th>\n",
       "      <th>assay_description</th>\n",
       "      <th>bao_endpoint</th>\n",
       "      <th>target_organism</th>\n",
       "      <th>target_pref_name</th>\n",
       "      <th>type</th>\n",
       "      <th>units</th>\n",
       "      <th>value</th>\n",
       "    </tr>\n",
       "  </thead>\n",
       "  <tbody>\n",
       "    <tr>\n",
       "      <th>0</th>\n",
       "      <td>CHEMBL865441</td>\n",
       "      <td>Permeability in human skin</td>\n",
       "      <td>BAO_0000179</td>\n",
       "      <td>Homo sapiens</td>\n",
       "      <td>Homo sapiens</td>\n",
       "      <td>log Kp</td>\n",
       "      <td>cm/s</td>\n",
       "      <td>-5.56</td>\n",
       "    </tr>\n",
       "    <tr>\n",
       "      <th>3</th>\n",
       "      <td>CHEMBL925052</td>\n",
       "      <td>Permeability across human Skin</td>\n",
       "      <td>BAO_0000179</td>\n",
       "      <td>Homo sapiens</td>\n",
       "      <td>Skin</td>\n",
       "      <td>log Kp</td>\n",
       "      <td>None</td>\n",
       "      <td>-5.56</td>\n",
       "    </tr>\n",
       "  </tbody>\n",
       "</table>\n",
       "</div>"
      ],
      "text/plain": [
       "  assay_chembl_id               assay_description bao_endpoint  \\\n",
       "0    CHEMBL865441      Permeability in human skin  BAO_0000179   \n",
       "3    CHEMBL925052  Permeability across human Skin  BAO_0000179   \n",
       "\n",
       "  target_organism target_pref_name    type units  value  \n",
       "0    Homo sapiens     Homo sapiens  log Kp  cm/s  -5.56  \n",
       "3    Homo sapiens             Skin  log Kp  None  -5.56  "
      ]
     },
     "execution_count": 8,
     "metadata": {},
     "output_type": "execute_result"
    }
   ],
   "source": [
    "chembl_id = ChemblAPI.chemblid_from_inchi(inchi_key)\n",
    "assay_type = 'A'\n",
    "organism = 'Homo sapiens'\n",
    "types = ['log Kp', 'F', 'Vd', 'CL'] # logKp for skin permeability, F for bioavailability, Vd for volume of distribution, CL for clearance - this should give a good overview of expected ADME if there's data\n",
    "\n",
    "adme_assays = ChemblAPI.chembl_ADME(chembl_id, organism)\n",
    "clean_adme = ChemblAPI.clean_ADME(adme_assays, types)\n",
    "clean_adme"
   ]
  },
  {
   "cell_type": "markdown",
   "id": "16d267b1-2f77-484e-9476-35b07fc2c914",
   "metadata": {},
   "source": [
    "Skin permeability looks to be relatively low for this compound. That's good for something that's not intended for topical administration. It can't do damage if it doesn't get into the body."
   ]
  },
  {
   "cell_type": "code",
   "execution_count": 9,
   "id": "419a043d-bca6-485d-80d8-4fa71ded35bb",
   "metadata": {},
   "outputs": [
    {
     "data": {
      "text/plain": [
       "[]"
      ]
     },
     "execution_count": 9,
     "metadata": {},
     "output_type": "execute_result"
    }
   ],
   "source": [
    "ChemblAPI.chembl_tox(chembl_id)"
   ]
  },
  {
   "cell_type": "code",
   "execution_count": 10,
   "id": "25ae10ea-ee77-475f-8514-7d172bfddec8",
   "metadata": {},
   "outputs": [
    {
     "data": {
      "text/plain": [
       "'DTXSID9020112'"
      ]
     },
     "execution_count": 10,
     "metadata": {},
     "output_type": "execute_result"
    }
   ],
   "source": [
    "CTXAPI.get_dtxsid_from_inchikey(inchi_key, CTX_API_KEY)"
   ]
  },
  {
   "cell_type": "code",
   "execution_count": 11,
   "id": "65bb18d9-29d0-4553-a1f8-767db6c59408",
   "metadata": {},
   "outputs": [
    {
     "name": "stdout",
     "output_type": "stream",
     "text": [
      "[{'id': 2680, 'source': 'EPA OPP', 'url': 'http://www.epa.gov/pesticides/carlist/', 'exposureRoute': '-', 'cancerCall': 'Not Likely to Be Carcinogenic in Humans', 'dtxsid': 'DTXSID9020112'}, {'id': 2681, 'source': 'IARC', 'url': 'https://monographs.iarc.who.int/list-of-classifications/', 'exposureRoute': '-', 'cancerCall': 'Group 3 - Not classifiable as to its carcinogenicity to humans', 'dtxsid': 'DTXSID9020112'}]\n"
     ]
    }
   ],
   "source": [
    "dtxsid = CTXAPI.get_dtxsid_from_inchikey(inchi_key, CTX_API_KEY) # the DTXSID is the core chemical identifier for most USEPA systems\n",
    "cancer_data = CTXAPI.get_cancer_data(dtxsid, CTX_API_KEY)\n",
    "print(cancer_data)"
   ]
  },
  {
   "cell_type": "code",
   "execution_count": 12,
   "id": "510d5b73-77e3-4309-baa7-4e9eae493b5e",
   "metadata": {},
   "outputs": [
    {
     "data": {
      "text/plain": [
       "Index(['id', 'year', 'source', 'priorityId', 'subsource', 'sourceUrl',\n",
       "       'subsourceUrl', 'riskAssessmentClass', 'toxvalType', 'toxvalSubtype',\n",
       "       'toxvalNumeric', 'toxvalNumericQualifier', 'toxvalUnits', 'studyType',\n",
       "       'studyDurationClass', 'studyDurationValue', 'studyDurationUnits',\n",
       "       'strain', 'sex', 'population', 'exposureMethod', 'exposureForm',\n",
       "       'media', 'lifestage', 'generation', 'criticalEffect', 'detailText',\n",
       "       'supercategory', 'speciesCommon', 'humanEcoNt', 'exposureRoute',\n",
       "       'dtxsid'],\n",
       "      dtype='object')"
      ]
     },
     "execution_count": 12,
     "metadata": {},
     "output_type": "execute_result"
    }
   ],
   "source": [
    "ctx_hazard = CTXAPI.get_hazard_data(dtxsid, CTX_API_KEY)\n",
    "len(ctx_hazard)\n",
    "pd.DataFrame(ctx_hazard).columns"
   ]
  },
  {
   "cell_type": "code",
   "execution_count": 13,
   "id": "4caad582-5dfb-4db3-a117-47f743cc41e3",
   "metadata": {},
   "outputs": [],
   "source": [
    "noncancer_hazard = pd.DataFrame(ctx_hazard)[['id', 'source', 'subsource', 'sourceUrl', 'riskAssessmentClass', 'toxvalType', 'toxvalNumeric', 'toxvalUnits', 'criticalEffect', 'speciesCommon', 'exposureRoute']]"
   ]
  },
  {
   "cell_type": "markdown",
   "id": "618ef430-5561-4069-b519-ba5bafcbe829",
   "metadata": {},
   "source": [
    "To harmonize and aggregate the toxicology data for this compound into a consolidated benchmark human equivalent dose I'm going to use a technique that only a few folks, mostly EPA-internal, will know about. It is technically documented to the public but is *not* an official assessment product. I am using it because it's a beautiful way to bring together disparate toxicity data into a single summary number. I am happy to to speak about it more. The public *draft* of the method is available at https://www.epa.gov/system/files/documents/2024-12/dcap-report_bosc-review_508-compliant_final.pdf and is in the process of undergoing scientific panel review.\n",
    "\n",
    "I will be using it to consolidate the information in the chronic, sub-chronic, and acute (short-term) studies. I'm also using a somewhat simplified version for the sake of brevity in this exercise."
   ]
  },
  {
   "cell_type": "code",
   "execution_count": 14,
   "id": "6486cf74-4bc5-48b5-a0ea-3cdae116efc6",
   "metadata": {},
   "outputs": [],
   "source": [
    "df = noncancer_hazard.query(\n",
    "    \"source == 'ToxRefDB' and ((riskAssessmentClass == 'subchronic') or (riskAssessmentClass == 'chronic') or (riskAssessmentClass == 'short-term')) and ((toxvalType == 'NOAEL') or (toxvalType == 'LOAEL'))\"\n",
    ")"
   ]
  },
  {
   "cell_type": "code",
   "execution_count": 15,
   "id": "f23f68f4-7e6a-454e-98b8-ed32e4d9dd8e",
   "metadata": {},
   "outputs": [],
   "source": [
    "# See Table 4-1 of documentation\n",
    "\n",
    "duration_cf = {\n",
    "    'chronic' : 1, \n",
    "    'subchronic' : (1/3), \n",
    "    'short-term' : (1/10)\n",
    "}\n",
    "\n",
    "species_cf = {\n",
    "    \"Mouse\": (1/11.3),\n",
    "    \"Rat\": (1/5.6),\n",
    "    \"Rabbit\": (1/3.),\n",
    "    \"Dog\": (1/1.7),\n",
    "}\n",
    "\n",
    "effectlevel_cf = {\n",
    "    \"LOAEL\" : (1/3),\n",
    "    \"NOAEL\" : 1,\n",
    "}"
   ]
  },
  {
   "cell_type": "code",
   "execution_count": 16,
   "id": "6d183af3-73b3-4a7c-b32d-718c8299b34d",
   "metadata": {},
   "outputs": [],
   "source": [
    "df.to_csv(os.path.join(os.getcwd(), \"tox_df.csv\"))"
   ]
  },
  {
   "cell_type": "code",
   "execution_count": 17,
   "id": "1c81cf33-4da8-466e-90ec-98730ce7fa0a",
   "metadata": {},
   "outputs": [
    {
     "name": "stderr",
     "output_type": "stream",
     "text": [
      "C:\\Users\\Nate\\AppData\\Local\\Temp\\ipykernel_26824\\710382916.py:9: SettingWithCopyWarning: \n",
      "A value is trying to be set on a copy of a slice from a DataFrame.\n",
      "Try using .loc[row_indexer,col_indexer] = value instead\n",
      "\n",
      "See the caveats in the documentation: https://pandas.pydata.org/pandas-docs/stable/user_guide/indexing.html#returning-a-view-versus-a-copy\n",
      "  df.loc[:, \"eBMDHED_mg_kg_day\"] = df.apply(compute_eBMDHED, axis=1)\n",
      "C:\\Users\\Nate\\AppData\\Local\\Temp\\ipykernel_26824\\710382916.py:10: SettingWithCopyWarning: \n",
      "A value is trying to be set on a copy of a slice from a DataFrame.\n",
      "Try using .loc[row_indexer,col_indexer] = value instead\n",
      "\n",
      "See the caveats in the documentation: https://pandas.pydata.org/pandas-docs/stable/user_guide/indexing.html#returning-a-view-versus-a-copy\n",
      "  df['Log(BMDHED)'] = np.log10(df['eBMDHED_mg_kg_day'])\n"
     ]
    }
   ],
   "source": [
    "import numpy as np\n",
    "\n",
    "def compute_eBMDHED(row):\n",
    "    duration = 1 if row[\"riskAssessmentClass\"] == \"developmental\" else duration_cf.get(row[\"toxvalType\"].lower(), 1)\n",
    "    species = species_cf.get(row[\"speciesCommon\"], 1)\n",
    "    study = effectlevel_cf.get(row[\"toxvalType\"], 1)\n",
    "    return row[\"toxvalNumeric\"] * study * species * duration\n",
    "\n",
    "df.loc[:, \"eBMDHED_mg_kg_day\"] = df.apply(compute_eBMDHED, axis=1)\n",
    "df['Log(BMDHED)'] = np.log10(df['eBMDHED_mg_kg_day'])\n"
   ]
  },
  {
   "cell_type": "code",
   "execution_count": 18,
   "id": "ed8fa573-eb2a-4b2c-ae7d-2e893fda8445",
   "metadata": {},
   "outputs": [],
   "source": [
    "lower_ci = df['Log(BMDHED)'].quantile(0.025)\n",
    "upper_ci = df['Log(BMDHED)'].quantile(0.975)"
   ]
  },
  {
   "cell_type": "code",
   "execution_count": 19,
   "id": "e3fddc02-28f5-487a-8859-6a56941e6d07",
   "metadata": {},
   "outputs": [
    {
     "data": {
      "image/png": "[encoded data removed]",
      "text/plain": [
       "<Figure size 640x480 with 1 Axes>"
      ]
     },
     "metadata": {},
     "output_type": "display_data"
    }
   ],
   "source": [
    "fig, ax = plt.subplots()\n",
    "sns.histplot(df, x='Log(BMDHED)')\n",
    "ax.axvline(lower_ci, linestyle=\"--\", c=\"tab:red\")\n",
    "ax.axvline(upper_ci, linestyle=\"--\", c=\"tab:red\")\n",
    "plt.show()"
   ]
  },
  {
   "cell_type": "code",
   "execution_count": 20,
   "id": "c4413b6d-c18c-4992-bd2f-15846f97433a",
   "metadata": {},
   "outputs": [
    {
     "data": {
      "text/plain": [
       "0.5955310008217203"
      ]
     },
     "execution_count": 20,
     "metadata": {},
     "output_type": "execute_result"
    }
   ],
   "source": [
    "float(10**lower_ci)"
   ]
  },
  {
   "cell_type": "code",
   "execution_count": null,
   "id": "a26f946e-415b-49db-af1a-9a368630eb16",
   "metadata": {},
   "outputs": [],
   "source": []
  },
  {
   "cell_type": "code",
   "execution_count": 21,
   "id": "6c9cc933-5d6a-4c86-91a0-d1cf26df9e8c",
   "metadata": {},
   "outputs": [],
   "source": [
    "df = noncancer_hazard.query(\n",
    "    \"toxvalType == 'RfD'\"\n",
    ")"
   ]
  },
  {
   "cell_type": "code",
   "execution_count": 22,
   "id": "43ae7c26-29ba-4d81-b5a5-9cdea8e63bc3",
   "metadata": {},
   "outputs": [
    {
     "data": {
      "text/html": [
       "<div>\n",
       "<style scoped>\n",
       "    .dataframe tbody tr th:only-of-type {\n",
       "        vertical-align: middle;\n",
       "    }\n",
       "\n",
       "    .dataframe tbody tr th {\n",
       "        vertical-align: top;\n",
       "    }\n",
       "\n",
       "    .dataframe thead th {\n",
       "        text-align: right;\n",
       "    }\n",
       "</style>\n",
       "<table border=\"1\" class=\"dataframe\">\n",
       "  <thead>\n",
       "    <tr style=\"text-align: right;\">\n",
       "      <th></th>\n",
       "      <th>id</th>\n",
       "      <th>source</th>\n",
       "      <th>subsource</th>\n",
       "      <th>sourceUrl</th>\n",
       "      <th>riskAssessmentClass</th>\n",
       "      <th>toxvalType</th>\n",
       "      <th>toxvalNumeric</th>\n",
       "      <th>toxvalUnits</th>\n",
       "      <th>criticalEffect</th>\n",
       "      <th>speciesCommon</th>\n",
       "      <th>exposureRoute</th>\n",
       "    </tr>\n",
       "  </thead>\n",
       "  <tbody>\n",
       "    <tr>\n",
       "      <th>7497</th>\n",
       "      <td>378472</td>\n",
       "      <td>Cal OEHHA</td>\n",
       "      <td>California DPH</td>\n",
       "      <td>https://oehha.ca.gov/chemicals</td>\n",
       "      <td>chronic</td>\n",
       "      <td>RfD</td>\n",
       "      <td>0.006</td>\n",
       "      <td>mg/kg-day</td>\n",
       "      <td>-</td>\n",
       "      <td>Human (RA)</td>\n",
       "      <td>oral</td>\n",
       "    </tr>\n",
       "    <tr>\n",
       "      <th>7522</th>\n",
       "      <td>377757</td>\n",
       "      <td>HEAST</td>\n",
       "      <td>-</td>\n",
       "      <td>https://cfpub.epa.gov/ncea/risk/recordisplay.c...</td>\n",
       "      <td>chronic</td>\n",
       "      <td>RfD</td>\n",
       "      <td>0.035</td>\n",
       "      <td>mg/kg-day</td>\n",
       "      <td>reduced weight gain</td>\n",
       "      <td>Human (RA)</td>\n",
       "      <td>oral</td>\n",
       "    </tr>\n",
       "    <tr>\n",
       "      <th>7524</th>\n",
       "      <td>383868</td>\n",
       "      <td>IRIS</td>\n",
       "      <td>-</td>\n",
       "      <td>https://www.epa.gov/iris</td>\n",
       "      <td>chronic</td>\n",
       "      <td>RfD</td>\n",
       "      <td>0.035</td>\n",
       "      <td>mg/kg-day</td>\n",
       "      <td>Other:Decreased body weight gain</td>\n",
       "      <td>Human (RA)</td>\n",
       "      <td>oral</td>\n",
       "    </tr>\n",
       "    <tr>\n",
       "      <th>7527</th>\n",
       "      <td>393612</td>\n",
       "      <td>OW Drinking Water Standards</td>\n",
       "      <td>EPA OW</td>\n",
       "      <td>https://www.epa.gov/ground-water-and-drinking-...</td>\n",
       "      <td>chronic</td>\n",
       "      <td>RfD</td>\n",
       "      <td>0.020</td>\n",
       "      <td>mg/kg-day</td>\n",
       "      <td>-</td>\n",
       "      <td>Human (RA)</td>\n",
       "      <td>oral</td>\n",
       "    </tr>\n",
       "    <tr>\n",
       "      <th>7536</th>\n",
       "      <td>377640</td>\n",
       "      <td>Pennsylvania DEP ToxValues</td>\n",
       "      <td>Health Effects Assessment Summary Table (HEAST)</td>\n",
       "      <td>https://www.dep.state.pa.us/toxicity/ToxicityV...</td>\n",
       "      <td>chronic</td>\n",
       "      <td>RfD</td>\n",
       "      <td>0.035</td>\n",
       "      <td>mg/kg-day</td>\n",
       "      <td>-</td>\n",
       "      <td>Human (RA)</td>\n",
       "      <td>-</td>\n",
       "    </tr>\n",
       "    <tr>\n",
       "      <th>7540</th>\n",
       "      <td>378430</td>\n",
       "      <td>RSL</td>\n",
       "      <td>ATSDR</td>\n",
       "      <td>https://www.epa.gov/risk/regional-screening-le...</td>\n",
       "      <td>chronic</td>\n",
       "      <td>RfD</td>\n",
       "      <td>0.003</td>\n",
       "      <td>mg/kg-day</td>\n",
       "      <td>-</td>\n",
       "      <td>Human (RA)</td>\n",
       "      <td>-</td>\n",
       "    </tr>\n",
       "    <tr>\n",
       "      <th>7543</th>\n",
       "      <td>391888</td>\n",
       "      <td>RSL</td>\n",
       "      <td>ATSDR</td>\n",
       "      <td>https://www.epa.gov/risk/regional-screening-le...</td>\n",
       "      <td>chronic</td>\n",
       "      <td>RfD</td>\n",
       "      <td>0.003</td>\n",
       "      <td>mg/kg-day</td>\n",
       "      <td>-</td>\n",
       "      <td>Human (RA)</td>\n",
       "      <td>oral</td>\n",
       "    </tr>\n",
       "  </tbody>\n",
       "</table>\n",
       "</div>"
      ],
      "text/plain": [
       "          id                       source  \\\n",
       "7497  378472                    Cal OEHHA   \n",
       "7522  377757                        HEAST   \n",
       "7524  383868                         IRIS   \n",
       "7527  393612  OW Drinking Water Standards   \n",
       "7536  377640   Pennsylvania DEP ToxValues   \n",
       "7540  378430                          RSL   \n",
       "7543  391888                          RSL   \n",
       "\n",
       "                                            subsource  \\\n",
       "7497                                   California DPH   \n",
       "7522                                                -   \n",
       "7524                                                -   \n",
       "7527                                           EPA OW   \n",
       "7536  Health Effects Assessment Summary Table (HEAST)   \n",
       "7540                                            ATSDR   \n",
       "7543                                            ATSDR   \n",
       "\n",
       "                                              sourceUrl riskAssessmentClass  \\\n",
       "7497                     https://oehha.ca.gov/chemicals             chronic   \n",
       "7522  https://cfpub.epa.gov/ncea/risk/recordisplay.c...             chronic   \n",
       "7524                           https://www.epa.gov/iris             chronic   \n",
       "7527  https://www.epa.gov/ground-water-and-drinking-...             chronic   \n",
       "7536  https://www.dep.state.pa.us/toxicity/ToxicityV...             chronic   \n",
       "7540  https://www.epa.gov/risk/regional-screening-le...             chronic   \n",
       "7543  https://www.epa.gov/risk/regional-screening-le...             chronic   \n",
       "\n",
       "     toxvalType  toxvalNumeric toxvalUnits                    criticalEffect  \\\n",
       "7497        RfD          0.006   mg/kg-day                                 -   \n",
       "7522        RfD          0.035   mg/kg-day               reduced weight gain   \n",
       "7524        RfD          0.035   mg/kg-day  Other:Decreased body weight gain   \n",
       "7527        RfD          0.020   mg/kg-day                                 -   \n",
       "7536        RfD          0.035   mg/kg-day                                 -   \n",
       "7540        RfD          0.003   mg/kg-day                                 -   \n",
       "7543        RfD          0.003   mg/kg-day                                 -   \n",
       "\n",
       "     speciesCommon exposureRoute  \n",
       "7497    Human (RA)          oral  \n",
       "7522    Human (RA)          oral  \n",
       "7524    Human (RA)          oral  \n",
       "7527    Human (RA)          oral  \n",
       "7536    Human (RA)             -  \n",
       "7540    Human (RA)             -  \n",
       "7543    Human (RA)          oral  "
      ]
     },
     "execution_count": 22,
     "metadata": {},
     "output_type": "execute_result"
    }
   ],
   "source": [
    "df"
   ]
  },
  {
   "cell_type": "code",
   "execution_count": null,
   "id": "78922bf7-ff4e-4166-9e47-481ca712a320",
   "metadata": {},
   "outputs": [],
   "source": []
  }
 ],
 "metadata": {
  "kernelspec": {
   "display_name": "Python 3 (ipykernel)",
   "language": "python",
   "name": "python3"
  },
  "language_info": {
   "codemirror_mode": {
    "name": "ipython",
    "version": 3
   },
   "file_extension": ".py",
   "mimetype": "text/x-python",
   "name": "python",
   "nbconvert_exporter": "python",
   "pygments_lexer": "ipython3",
   "version": "3.13.2"
  }
 },
 "nbformat": 4,
 "nbformat_minor": 5
}
