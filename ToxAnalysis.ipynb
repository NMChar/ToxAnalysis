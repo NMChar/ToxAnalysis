{
 "cells": [
  {
   "cell_type": "code",
   "execution_count": 1,
   "id": "47ec0ca9-d8be-438b-93ee-dab607fdff12",
   "metadata": {},
   "outputs": [],
   "source": [
    "import sys\n",
    "import os\n",
    "import gc\n",
    "\n",
    "package_path = os.path.join(os.getcwd(), \"packages/\")\n",
    "if package_path not in sys.path:\n",
    "    sys.path.insert(0, package_path)\n",
    "\n",
    "import PubChemHazardAPI\n",
    "import PubChemBioactivityAPI\n",
    "import PubChemIdentifiers\n",
    "import PubMedAPI\n",
    "import AssayData\n",
    "import ChemblAPI\n",
    "import CTXAPI\n",
    "\n",
    "import LLMAnalysis # this involves loading a huggingface model (BioGPT-Large) so expect the import block to take a little while - also expect some loading bars. If it's bugging you just comment it out\n",
    "                   # I will point out the single block that uses it later\n",
    "\n",
    "from tqdm import tqdm\n",
    "import time\n",
    "import json\n",
    "\n",
    "import pandas as pd\n",
    "\n",
    "import matplotlib.pyplot as plt\n",
    "import seaborn as sns\n",
    "\n",
    "from dotenv import load_dotenv\n"
   ]
  },
  {
   "cell_type": "markdown",
   "id": "26e8c275-c58d-49dd-aa79-4546d1bbf068",
   "metadata": {},
   "source": [
    "Stepping into a role as a risk-concerned toxicologist conducting a preliminary analysis of the potential hazard posed by some chemical...\n",
    "\n",
    "It could be interesting to look at atrazine, a very common pesticide. \n",
    "\n",
    "I want to note: I focused a lot on information gathering and processing existing data because the product I saw seemed like it already had predictive models. Adding these as endpoints (ergo collecting the data to train them as endpoints) would be the sort of thing I as a risk-concerned toxicologist would want to consider during my assessment. Does the literature say it's scary? Does it show activity in in vitro NAMs? Will it absorb through the skin? Etc. Etc. I therefore selected tools and a workflow from this perspective. Please ask me any question you'd like about supervised machine learning if that is of specific interest.\n",
    "\n",
    "If the assignment was directly a QSAR *or* a chemical without a large amount of data I would dive into read-across (automated by GenRA or an in-house similarity approach) and use the systems I developed and applied here to begin characterizing similar compounds that have data. "
   ]
  },
  {
   "cell_type": "code",
   "execution_count": 2,
   "id": "434e9bdd-21d3-4f3f-98af-cb91245dd5f0",
   "metadata": {},
   "outputs": [
    {
     "name": "stdout",
     "output_type": "stream",
     "text": [
      "C:\\Users\\Nate\\Documents\\Projects\\2025\\ChemicalToxAnalysis\n"
     ]
    }
   ],
   "source": [
    "print(os.getcwd())"
   ]
  },
  {
   "cell_type": "code",
   "execution_count": 3,
   "id": "7c48207d-3ee5-4afe-8fbf-4b6bda3e08eb",
   "metadata": {},
   "outputs": [],
   "source": [
    "CHEMICAL_NAME = 'atrazine'\n",
    "\n",
    "load_dotenv()\n",
    "CTX_API_KEY = os.getenv(\"CTX_API_KEY\")\n",
    "if not CTX_API_KEY:\n",
    "    raise ValueError(\"API key not found. Please set CTX_API_KEY in your .env file.\")"
   ]
  },
  {
   "cell_type": "code",
   "execution_count": 4,
   "id": "055d44ec-fd06-479c-bbf6-140a3d5da497",
   "metadata": {},
   "outputs": [],
   "source": [
    "inchi_key = PubChemIdentifiers.inchi_from_name(CHEMICAL_NAME)\n",
    "# I don't generally trust preferred names so I'm going to convert to Inchi for tracking purposes. In a production environment we would need to be careful in how we map preferred name to Inchikey\n",
    "# Confining scope to handling compounds. Substances would require more upstream handling/thinking\n",
    "pubchem_cid = PubChemIdentifiers.pubchem_cid_from_inchi(inchi_key)"
   ]
  },
  {
   "cell_type": "code",
   "execution_count": 5,
   "id": "092755ef-7cd4-47ea-926e-99c5b24077bb",
   "metadata": {},
   "outputs": [
    {
     "name": "stdout",
     "output_type": "stream",
     "text": [
      "No JSON detected. Analyzing assays.\n"
     ]
    },
    {
     "name": "stderr",
     "output_type": "stream",
     "text": [
      "Detecting Relevant Assays: 100%|███████████████████████████████████████████████████████| 36/36 [00:14<00:00,  2.48it/s]"
     ]
    },
    {
     "name": "stdout",
     "output_type": "stream",
     "text": [
      "{'developmental': 1, 'mutagen': 2, 'CYP': 3}\n",
      "['Harmful if swallowed Acute toxicity, oral', 'May cause an allergic skin reaction Skin sensitization', 'Causes serious eye irritation Serious eye damage/eye irritation', 'Causes eye irritation Serious eye damage/eye irritation', 'May be harmful if inhaled Acute toxicity, inhalation', 'Suspected of damaging fertility or the unborn child Reproductive toxicity', 'May cause damage to organs Specific target organ toxicity, single exposure', 'May cause damage to organs through prolonged or repeated exposure Specific target organ toxicity, repeated exposure', 'Very toxic to aquatic life Hazardous to the aquatic environment, acute hazard', 'Very toxic to aquatic life with long lasting effects Hazardous to the aquatic environment, long-term hazard']\n"
     ]
    },
    {
     "name": "stderr",
     "output_type": "stream",
     "text": [
      "\n"
     ]
    }
   ],
   "source": [
    "assays = PubChemBioactivityAPI.pubchem_bioactivity_summary(pubchem_cid)\n",
    "bioactivity_summary = PubChemBioactivityAPI.bioactivity_json_to_dframe(assays)\n",
    "bioactivity_summary = bioactivity_summary.loc[bioactivity_summary['Activity Outcome'] == 'Active']\n",
    "\n",
    "try: \n",
    "    with open(os.path.join(os.getcwd(), f\"assay_desc_{pubchem_cid}.json\"), \"r\") as fin:\n",
    "        tox_assays = json.load(fin)\n",
    "except:\n",
    "    print(\"No JSON detected. Analyzing assays.\")\n",
    "    tox_assays = {}\n",
    "    for aid in tqdm(bioactivity_summary['AID'], desc=\"Detecting Relevant Assays\"):\n",
    "        assay_desc = PubChemBioactivityAPI.assay_description(aid)\n",
    "        relevance = AssayData.tox_keyword_hits(assay_desc)\n",
    "        if relevance != None:\n",
    "            tox_assays[aid] = {\"keywords\" : relevance, \"desc\" : assay_desc}\n",
    "        # avoid angering pubchem gods - stick to < 5 requests / sec\n",
    "        time.sleep(0.21)\n",
    "    with open(os.path.join(os.getcwd(), f\"assay_desc_{pubchem_cid}.json\"), \"w\") as fout:\n",
    "        json.dump(tox_assays, fout, indent=2)\n",
    "\n",
    "BA_summary = AssayData.summarize_assay_data(tox_assays)\n",
    "GHS_summary = PubChemHazardAPI.summarize_hazard_codes(PubChemHazardAPI.extract_ghs_hazard_codes(pubchem_cid))\n",
    "\n",
    "print(BA_summary)\n",
    "print(GHS_summary['GHS Definitions'])\n"
   ]
  },
  {
   "cell_type": "markdown",
   "id": "54700733-5fec-40f0-aa5f-03027ba53c0f",
   "metadata": {},
   "source": [
    "Extensive hazard code profile and activity in bioassays associated with CYP metabolism/activity, mutagens, and one developmental assay. It's enough that I'd want to pull up the abstracts and check how many of these indicate a true issue. The ecotox is noticeable."
   ]
  },
  {
   "cell_type": "code",
   "execution_count": 6,
   "id": "7b114e0d-7fbb-4cbb-8674-3aeff62456fa",
   "metadata": {},
   "outputs": [
    {
     "data": {
      "text/plain": [
       "{'keywords': ['developmental'],\n",
       " 'desc': ['U.S. Tox21 Program',\n",
       "  '',\n",
       "  'National Center for Advancing Translational Sciences [NCATS]',\n",
       "  'NIH Chemical Genomics Center [NCGC]',\n",
       "  'U.S. Environmental Protection Agency [EPA]',\n",
       "  'National Institutes of Environmental Health Sciences [NIEHS]',\n",
       "  'National Toxicology Program [NTP]',\n",
       "  'U.S. Food and Drug Administration [FDA]',\n",
       "  '',\n",
       "  'Tox21 Assay Overview:',\n",
       "  '',\n",
       "  'The sonic hedgehog (Shh) pathway is essential for normal embryonic development. Dysregulation of the Shh pathway can cause severe developmental defects in organs. Therefore chemicals that interfere with the pathway are potential developmental toxicants. A cell line designated 3T3Gli1-Luc (DMB/OARSA/CFSAN/FDA, Laurel, MD), a NIH/3T3 derived clone containing stably integrated Gli1-Luc reporter is used to detect chemical interference of the Shh pathway, by changes in the expression of the firefly Luc gene under the control of the Gli1 transcriptional response element. This cell line was used to screen Tox21 libraries for identifying and prioritizing the potential developmental toxicants that interfere Shh pathway. Conditioned medium-stimulated mode was used to screen for chemicals inhibiting Shh signaling. The cytotoxicity of the compounds was tested in parallel by measuring the cell viability using CellTiter-Fluor assay system (Promega, Madison, WI) in the same wells. To differentiate true SHH antagonists from cytotoxic substances, the assay is multiplexed with a cell viability assay.']}"
      ]
     },
     "execution_count": 6,
     "metadata": {},
     "output_type": "execute_result"
    }
   ],
   "source": [
    "tox_assays['1259392'] # pulling the 'developmental' record by its AID. It looks like activity in this assay might represent a genuine devtox concern, but it's hardly an in vivo study"
   ]
  },
  {
   "cell_type": "markdown",
   "id": "72c544d6-2c24-4976-a590-25d5a6671ca9",
   "metadata": {},
   "source": [
    "In the context of further investigating the toxicology of this molecule I would also be interested in the scientific literature. The bioactivity data flagged developmental toxicity, so let's grab some abstracts from the past year with keywords 'atrazine', 'developmental', and 'toxicity'"
   ]
  },
  {
   "cell_type": "code",
   "execution_count": 7,
   "id": "6f757523-3751-4f61-aa84-b1e68be92553",
   "metadata": {},
   "outputs": [
    {
     "name": "stdout",
     "output_type": "stream",
     "text": [
      "1. Int J Mol Sci. 2024 Dec 5;25(23):13066. doi: 10.3390/ijms252313066.\n",
      "\n",
      "Integrated Analysis of Neuroendocrine and Neurotransmission Pathways Following \n",
      "Developmental Atrazine Exposure in Zebrafish.\n",
      "\n",
      "Stradtman SC(1), Swihart JN(1), Moore K(1), Akoro IN(1), Ahkin Chin Tai JK(1), \n",
      "Tamagno WA(1), Freeman JL(1).\n",
      "\n",
      "Author information:\n",
      "(1)School of Health Sciences, Purdue University, West Lafayette, IN 47907, USA.\n",
      "\n",
      "Atrazine is an endocrine-disrupting herbicide, with exposure impacting adverse \n",
      "outcomes along multiple endocrine pathways. This study investigated the \n",
      "neuroendocrine system as the central target of atrazine toxicity, examining \n",
      "effects of early developmental exposures on neurohormones and genes associated \n",
      "with kisspeptin, hypothalamic, pituitary, and dopamine systems. Zebrafish were \n",
      "exposed to 0, 0.3, 3, or 30 ppb (µg/L) atrazine during two developmental time \n",
      "windows. For neurohormone assessments, exposure was ceased at the end of \n",
      "embryogenesis (72 h post-fertilization, hpf) and analyzed immediately or grown \n",
      "to 0.5, 2, or 2.5 years post-fertilization (ypf). Gene expression was measured \n",
      "immediately after 1-72 hpf or 72-120 hpf exposure. Estradiol decreased in the \n",
      "0.3 and 30 ppb groups in 0.5 ypf female brains, while dopamine decreased in the \n",
      "same treatment groups at 72 hpf. Increases were also observed in 2.5 ypf female \n",
      "brains (3 ppb) for estradiol and in 2 ypf female and male brains (3 and 30 ppb) \n",
      "for dopamine. Gene expression alterations occurred for the follicle-stimulating \n",
      "hormone (fsh) at 72 hpf and the growth hormone (gh1) at 72 and 120 hpf. Overall, \n",
      "results indicated that developmental atrazine exposure has immediate and \n",
      "long-term sex-specific effects on neurohormonal systems.\n",
      "\n",
      "DOI: 10.3390/ijms252313066\n",
      "PMCID: PMC11641385\n",
      "PMID: 39684776 [Indexed for MEDLINE]\n",
      "\n",
      "Conflict of interest statement: The authors declare no conflicts of interest.\n"
     ]
    }
   ],
   "source": [
    "pmids = PubMedAPI.get_pubmed_ids(CHEMICAL_NAME, keywords=['developmental', 'toxicity'], max_results=10)\n",
    "first_abstract = PubMedAPI.get_abstract(pmids[0])\n",
    "print(first_abstract)"
   ]
  },
  {
   "cell_type": "markdown",
   "id": "61803dac-39c3-446a-87a7-5816147deef7",
   "metadata": {},
   "source": [
    "Personally I have no issue reading the literature, but I recognize the point of this exercise is to be considering an agentic system. With this in mind I wanted to explore the utility of an LLM for getting simplied but representative summaries of the abstracts recovered from pubmed. Please note: this method is rough. I think there's promise but it requires development and validation outside the scope of this assignment, and more careful validation the LLM is consistently delivering a reliable summary. Honestly I just thought it was a fun idea to explore.\n",
    "\n",
    "This function downloads and runs BioGPT-Large from HuggingFace so it will be memory and processor hungry. In a perfect world I'd have an api key to more advanced models, but they charge a corporate rate.\n",
    "\n",
    "*If you commented out the LLM import earlier this block will not work. It will take a little while for the model to do its thing. Also the models are currently stochastic...there's a way to fix the seed for reproducibility but I would need to dig into it*"
   ]
  },
  {
   "cell_type": "code",
   "execution_count": 8,
   "id": "897c80f2-56fd-4068-b2ca-348d412a0a6f",
   "metadata": {},
   "outputs": [
    {
     "name": "stdout",
     "output_type": "stream",
     "text": [
      "39684776\n",
      " Developmental atrazine exposure affects the neuroendocrine system of zebrafish. However, the effects of atrazine are sex-specific, with the effects on neurohormones and genes associated with kisspeptin, hypothalamic, pituitary, and dopamine systems occurring in a sex-specific manner.\n",
      "\n",
      "39226955\n",
      " reduced transcriptome analysis in zebrafish uncovers disruptors of spliceosome and ribosome biosynthesis.\n",
      "\n",
      "39195672\n",
      " The results show that pesticides can cause thyroid dysfunction, even with an indirect toxicity mechanism from thyroid dysfunction to offspring.\n",
      "\n",
      "38896413\n",
      " 1. Environmental presence and toxicological outcomes of the herbicide pendimethalin in teleost fish. 2.0 24.\n",
      "\n",
      "38815618\n",
      " ATR can affect the endocrine system. What is already known on this subject? • Atrazine (ATR) is a widely used herbicide and is found in the environment. • ATR can cause endocrine toxicity. What this study adds? • The present study systematically outlines the endocrine toxicity of ATR on the endocrine system. • The study provides a comprehensive overview of the mechanism underlying the endocrine toxicity of ATR. • ATR can affect the endocrine system by influencing the kisspeptin system, DNA synthesis and meiosis, modifying DNA methylation levels, affecting dopamine synthesis and transporter expression, and influencing other neurotransmitters. • The study provides a compilation of natural products used to mitigate the toxic effects of ATR.\n",
      "\n",
      "38642773\n",
      " Combined exposure of perfluorooctanoic acid and atrazine resulted in synergistic developmental effects and more complicated amino acid metabolic response toward zebrafish.\n",
      "\n"
     ]
    }
   ],
   "source": [
    "llm_key_findings = {}\n",
    "for pmid in pmids:\n",
    "    key_finding = LLMAnalysis.key_finding(PubMedAPI.get_abstract(pmid))\n",
    "    llm_key_findings[pmid] = key_finding\n",
    "    print(f\"{pmid}\\n {key_finding}\\n\")"
   ]
  },
  {
   "cell_type": "markdown",
   "id": "2431cc0a-9e91-471c-aac3-1493b3d3c3e3",
   "metadata": {},
   "source": [
    "So some interesting results. It looks like the first, fifth and sixth might be most immediately relevant to atrazine."
   ]
  },
  {
   "cell_type": "code",
   "execution_count": 9,
   "id": "ccf96b16-8038-44b2-9c0a-af115547e7fd",
   "metadata": {},
   "outputs": [
    {
     "data": {
      "text/plain": [
       "109"
      ]
     },
     "execution_count": 9,
     "metadata": {},
     "output_type": "execute_result"
    }
   ],
   "source": [
    "gc.collect() # going to free up some RAM because that model is big and I found my script getting twitchy"
   ]
  },
  {
   "cell_type": "code",
   "execution_count": 10,
   "id": "596813e3-951b-4298-b376-594cce19f2b3",
   "metadata": {},
   "outputs": [
    {
     "name": "stdout",
     "output_type": "stream",
     "text": [
      "1. Toxicology. 2024 Jun;505:153846. doi: 10.1016/j.tox.2024.153846. Epub 2024 May\n",
      " 28.\n",
      "\n",
      "Endocrine toxicity of atrazine and its underlying mechanisms.\n",
      "\n",
      "Zhao H(1), Qian H(1), Cui J(1), Ge Z(1), Shi J(1), Huo Y(1), Zhang Y(2), Ye \n",
      "L(3).\n",
      "\n",
      "Author information:\n",
      "(1)Department of Occupational and Environmental Health, School of Public Health, \n",
      "Jilin University, Changchun, China.\n",
      "(2)Department of Occupational and Environmental Health, School of Public Health, \n",
      "Jilin University, Changchun, China. Electronic address: jlzhangyz@163.com.\n",
      "(3)Department of Occupational and Environmental Health, School of Public Health, \n",
      "Jilin University, Changchun, China. Electronic address: jlyelin@163.com.\n",
      "\n",
      "Atrazine (ATR) is one of the most widely utilized herbicides globally and is \n",
      "prevalent in the environment due to its extensive use and long half-life. It can \n",
      "infiltrate the human body through drinking water, ingestion, and dermal contact, \n",
      "and has been recognized as an environmental endocrine disruptor. This study aims \n",
      "to comprehensively outline the detrimental impacts of ATR on the endocrine \n",
      "system. Previous research indicates that ATR is harmful to various bodily \n",
      "systems, including the reproductive system, nervous system, adrenal glands, and \n",
      "thyroi d gland. The toxic effects of ATR on the endocrine system and its \n",
      "underlying molecular mechanisms are summarized as follows: influencing the \n",
      "expression of kisspeptin in the HPG axis, consequently affecting steroid \n",
      "synthesis; disrupting DNA synthesis and meiosis, as well as modifying DNA \n",
      "methylation levels, leading to reproductive and developmental toxicity; \n",
      "impacting dopamine by altering Nurr1, VMAT2, and DAT expression, consequently \n",
      "affecting dopamine synthesis and transporter expression, and influencing other \n",
      "neurotransmitters, resulting in neurotoxicity; and changing adipose tissue \n",
      "synthesis and metabolism by reducing basal metabolism, impairing cellular \n",
      "oxidative phosphorylation, and inducing insulin resistance. Additionally, a \n",
      "compilation of natural products used to mitigate the toxic effects of ATR has \n",
      "been provided, encompassing melatonin, curcumin, quercetin, lycopene, \n",
      "flavonoids, vitamin C, vitamin E, and other natural remedies. It is important to \n",
      "note that existing research predominantly relies on in vitro and ex vivo \n",
      "experiments, with limited population-based empirical evidence available.\n",
      "\n",
      "Copyright © 2024 Elsevier B.V. All rights reserved.\n",
      "\n",
      "DOI: 10.1016/j.tox.2024.153846\n",
      "PMID: 38815618 [Indexed for MEDLINE]\n",
      "\n",
      "Conflict of interest statement: Declaration of Competing Interest The authors \n",
      "declare the following financial interests/personal relationships which may be \n",
      "considered as potential competing interests:Yuezhu Zhang reports financial \n",
      "support was provided by National Natural Science Foundation of China. If there \n",
      "are other authors, they declare that they have no known competing financial \n",
      "interests or personal relationships that could have appeared to influence the \n",
      "work reported in this paper\n"
     ]
    }
   ],
   "source": [
    "print(PubMedAPI.get_abstract(pmids[4]))"
   ]
  },
  {
   "cell_type": "code",
   "execution_count": 11,
   "id": "bc0a2445-fa9b-4491-ab65-8270bcac6532",
   "metadata": {},
   "outputs": [
    {
     "name": "stdout",
     "output_type": "stream",
     "text": [
      "1. Chemosphere. 2024 Jun;358:142080. doi: 10.1016/j.chemosphere.2024.142080. Epub\n",
      " 2024 Apr 18.\n",
      "\n",
      "Synergistic developmental effects of zebrafish exposed to combined \n",
      "perfluorooctanoic acid and atrazine.\n",
      "\n",
      "Zhao X(1), Wang B(1), Song X(1), He L(1), Zhang W(1), Qian Y(1), Mu X(2), Qiu \n",
      "J(3).\n",
      "\n",
      "Author information:\n",
      "(1)Institute of Quality Standard and Testing Technology for Agro-Products, \n",
      "Chinese Academy of Agricultural Sciences, Key Laboratory of Agri-food Safety and \n",
      "Quality, Ministry of Agriculture and Rural Affairs, Beijing, 100081, China.\n",
      "(2)Institute of Quality Standard and Testing Technology for Agro-Products, \n",
      "Chinese Academy of Agricultural Sciences, Key Laboratory of Agri-food Safety and \n",
      "Quality, Ministry of Agriculture and Rural Affairs, Beijing, 100081, China. \n",
      "Electronic address: muxiyan@caas.cn.\n",
      "(3)Institute of Quality Standard and Testing Technology for Agro-Products, \n",
      "Chinese Academy of Agricultural Sciences, Key Laboratory of Agri-food Safety and \n",
      "Quality, Ministry of Agriculture and Rural Affairs, Beijing, 100081, China. \n",
      "Electronic address: qiujing@caas.cn.\n",
      "\n",
      "Perfluorooctanoic acid (PFOA) and atrazine are two endocrine disruptors that are \n",
      "widely found in waters. Negative effects of PFOA and atrazine have been studied \n",
      "individually, but few data have focused on their combined effects. Here, \n",
      "zebrafish embryos were used as model to investigate the combined toxicity of \n",
      "PFOA and atrazine. The acute toxicity of atrazine (11.9 mg/L) to zebrafish \n",
      "embryos was much higher than that of perfluorooctanoic acid (224.6 mg/L) as \n",
      "shown by the 120h-LC50 value. Developmental effects, including delayed yolk sac \n",
      "absorption, spinal curvature, and liver abnormalities, were observed in both \n",
      "one- and two-component exposures. Notably, the rate of embryonic malformations \n",
      "in the co-exposure group was more than twice as high as that of single component \n",
      "exposure in the concentration range of 1/8-1/2 EC50, which indicated a \n",
      "synergistic effect of the binary mixture. The synergistic effect of \n",
      "PFOA-atrazine was further validated by combinatorial index (CI) modeling. In \n",
      "addition, changes of amino acid metabolites, reactive oxygen species and \n",
      "superoxide dismutase indicated that oxidative stress might be the main pathway \n",
      "for enhanced toxicity under co-exposure condition. Overall, co-exposure of PFOA \n",
      "and atrazine resulted in stronger developmental effects and more complicated \n",
      "amino acid metabolic response toward zebrafish, compared with single component \n",
      "exposure.\n",
      "\n",
      "Copyright © 2024 Elsevier Ltd. All rights reserved.\n",
      "\n",
      "DOI: 10.1016/j.chemosphere.2024.142080\n",
      "PMID: 38642773 [Indexed for MEDLINE]\n",
      "\n",
      "Conflict of interest statement: Declaration of competing interest The authors \n",
      "declare that they have no known competing financial interests or personal \n",
      "relationships that could have appeared to influence the work reported in this \n",
      "paper.\n"
     ]
    }
   ],
   "source": [
    "print(PubMedAPI.get_abstract(pmids[5]))"
   ]
  },
  {
   "cell_type": "markdown",
   "id": "546c991c-cc05-499e-9b69-73013fc9336f",
   "metadata": {},
   "source": [
    "Alright, so there's recent literary evidence of some potentially deleterious bioactivity and ecological toxicity. It also appears BioGPT-Large did a decent job extracting the key findings so that could probably be tuned into something pretty useful. If I were using some auto-toxicology dashboard I'd want those publications and summaries surfaced/available so I could dig deeper as part of a risk assessment.\n",
    "\n",
    "\n",
    "Let's zero in on human toxicity. One of the first places I'd check is whether we know anything about its ADME (absorption, distribution, metabolism, excretion) to see if there's quantitative data on things like how much might permeate the skin. I will query ChemBL and its database of ADME activities. There are other resources (PKDB, httk) but I like ChemBL's focus on pharmacology so, for the purposes of this exercise, let's see if it offers any insight into atrazine."
   ]
  },
  {
   "cell_type": "code",
   "execution_count": 12,
   "id": "9286d081-f815-4610-bf24-adf4fb576964",
   "metadata": {},
   "outputs": [
    {
     "data": {
      "text/html": [
       "<div>\n",
       "<style scoped>\n",
       "    .dataframe tbody tr th:only-of-type {\n",
       "        vertical-align: middle;\n",
       "    }\n",
       "\n",
       "    .dataframe tbody tr th {\n",
       "        vertical-align: top;\n",
       "    }\n",
       "\n",
       "    .dataframe thead th {\n",
       "        text-align: right;\n",
       "    }\n",
       "</style>\n",
       "<table border=\"1\" class=\"dataframe\">\n",
       "  <thead>\n",
       "    <tr style=\"text-align: right;\">\n",
       "      <th></th>\n",
       "      <th>assay_chembl_id</th>\n",
       "      <th>assay_description</th>\n",
       "      <th>bao_endpoint</th>\n",
       "      <th>target_organism</th>\n",
       "      <th>target_pref_name</th>\n",
       "      <th>type</th>\n",
       "      <th>units</th>\n",
       "      <th>value</th>\n",
       "    </tr>\n",
       "  </thead>\n",
       "  <tbody>\n",
       "    <tr>\n",
       "      <th>0</th>\n",
       "      <td>CHEMBL865441</td>\n",
       "      <td>Permeability in human skin</td>\n",
       "      <td>BAO_0000179</td>\n",
       "      <td>Homo sapiens</td>\n",
       "      <td>Homo sapiens</td>\n",
       "      <td>log Kp</td>\n",
       "      <td>cm/s</td>\n",
       "      <td>-5.56</td>\n",
       "    </tr>\n",
       "    <tr>\n",
       "      <th>3</th>\n",
       "      <td>CHEMBL925052</td>\n",
       "      <td>Permeability across human Skin</td>\n",
       "      <td>BAO_0000179</td>\n",
       "      <td>Homo sapiens</td>\n",
       "      <td>Skin</td>\n",
       "      <td>log Kp</td>\n",
       "      <td>None</td>\n",
       "      <td>-5.56</td>\n",
       "    </tr>\n",
       "  </tbody>\n",
       "</table>\n",
       "</div>"
      ],
      "text/plain": [
       "  assay_chembl_id               assay_description bao_endpoint  \\\n",
       "0    CHEMBL865441      Permeability in human skin  BAO_0000179   \n",
       "3    CHEMBL925052  Permeability across human Skin  BAO_0000179   \n",
       "\n",
       "  target_organism target_pref_name    type units  value  \n",
       "0    Homo sapiens     Homo sapiens  log Kp  cm/s  -5.56  \n",
       "3    Homo sapiens             Skin  log Kp  None  -5.56  "
      ]
     },
     "execution_count": 12,
     "metadata": {},
     "output_type": "execute_result"
    }
   ],
   "source": [
    "chembl_id = ChemblAPI.chemblid_from_inchi(inchi_key)\n",
    "assay_type = 'A'\n",
    "organism = 'Homo sapiens'\n",
    "types = ['log Kp', 'F', 'Vd', 'CL'] # logKp for skin permeability, F for bioavailability, Vd for volume of distribution, CL for clearance - this should give a good overview of expected ADME if there's data\n",
    "\n",
    "adme_assays = ChemblAPI.chembl_ADME(chembl_id, organism)\n",
    "clean_adme = ChemblAPI.clean_ADME(adme_assays, types)\n",
    "clean_adme"
   ]
  },
  {
   "cell_type": "markdown",
   "id": "16d267b1-2f77-484e-9476-35b07fc2c914",
   "metadata": {},
   "source": [
    "Skin permeability looks to be relatively low for this compound. That's good for something that's not intended for topical administration. It can't do damage if it doesn't get into the body.\n",
    "\n",
    "Finally let use CTX API and ToxRef to see what in vivo toxicity data is there for the assessment. We'll apply a technique developed in EPA to consolidate that data into a quick reference benchmark that a toxicologist might use as an estimate of the dosage where chronic oral consumption could get bad. This is a core problem of toxicology: \"How much of the poison makes it a poison?\""
   ]
  },
  {
   "cell_type": "code",
   "execution_count": 13,
   "id": "25ae10ea-ee77-475f-8514-7d172bfddec8",
   "metadata": {},
   "outputs": [
    {
     "data": {
      "text/plain": [
       "'DTXSID9020112'"
      ]
     },
     "execution_count": 13,
     "metadata": {},
     "output_type": "execute_result"
    }
   ],
   "source": [
    "CTXAPI.get_dtxsid_from_inchikey(inchi_key, CTX_API_KEY)"
   ]
  },
  {
   "cell_type": "code",
   "execution_count": 14,
   "id": "65bb18d9-29d0-4553-a1f8-767db6c59408",
   "metadata": {},
   "outputs": [
    {
     "name": "stdout",
     "output_type": "stream",
     "text": [
      "[{'id': 2680, 'source': 'EPA OPP', 'url': 'http://www.epa.gov/pesticides/carlist/', 'exposureRoute': '-', 'cancerCall': 'Not Likely to Be Carcinogenic in Humans', 'dtxsid': 'DTXSID9020112'}, {'id': 2681, 'source': 'IARC', 'url': 'https://monographs.iarc.who.int/list-of-classifications/', 'exposureRoute': '-', 'cancerCall': 'Group 3 - Not classifiable as to its carcinogenicity to humans', 'dtxsid': 'DTXSID9020112'}]\n"
     ]
    }
   ],
   "source": [
    "dtxsid = CTXAPI.get_dtxsid_from_inchikey(inchi_key, CTX_API_KEY) # the DTXSID is the core chemical identifier for most USEPA systems\n",
    "cancer_data = CTXAPI.get_cancer_data(dtxsid, CTX_API_KEY)\n",
    "print(cancer_data)"
   ]
  },
  {
   "cell_type": "code",
   "execution_count": 15,
   "id": "510d5b73-77e3-4309-baa7-4e9eae493b5e",
   "metadata": {},
   "outputs": [
    {
     "data": {
      "text/plain": [
       "Index(['id', 'year', 'source', 'priorityId', 'subsource', 'sourceUrl',\n",
       "       'subsourceUrl', 'riskAssessmentClass', 'toxvalType', 'toxvalSubtype',\n",
       "       'toxvalNumeric', 'toxvalNumericQualifier', 'toxvalUnits', 'studyType',\n",
       "       'studyDurationClass', 'studyDurationValue', 'studyDurationUnits',\n",
       "       'strain', 'sex', 'population', 'exposureMethod', 'exposureForm',\n",
       "       'media', 'lifestage', 'generation', 'criticalEffect', 'detailText',\n",
       "       'supercategory', 'speciesCommon', 'humanEcoNt', 'exposureRoute',\n",
       "       'dtxsid'],\n",
       "      dtype='object')"
      ]
     },
     "execution_count": 15,
     "metadata": {},
     "output_type": "execute_result"
    }
   ],
   "source": [
    "ctx_hazard = CTXAPI.get_hazard_data(dtxsid, CTX_API_KEY)\n",
    "len(ctx_hazard)\n",
    "pd.DataFrame(ctx_hazard).columns"
   ]
  },
  {
   "cell_type": "code",
   "execution_count": 16,
   "id": "4caad582-5dfb-4db3-a117-47f743cc41e3",
   "metadata": {},
   "outputs": [],
   "source": [
    "noncancer_hazard = pd.DataFrame(ctx_hazard)[['id', 'source', 'subsource', 'sourceUrl', 'riskAssessmentClass', 'toxvalType', 'toxvalNumeric', 'toxvalUnits', 'criticalEffect', 'speciesCommon', 'exposureRoute']]"
   ]
  },
  {
   "cell_type": "markdown",
   "id": "618ef430-5561-4069-b519-ba5bafcbe829",
   "metadata": {},
   "source": [
    "To harmonize and aggregate the toxicology data for this compound into a consolidated benchmark human equivalent dose I'm going to use a technique that only a few folks, mostly EPA-internal, will know about. It is technically documented to the public but is *not* an official assessment product. I am using it because it's a beautiful way to bring together disparate toxicity data into a single summary number. I am happy to to speak about it more. The public *draft* of the method is available at https://www.epa.gov/system/files/documents/2024-12/dcap-report_bosc-review_508-compliant_final.pdf and is in the process of undergoing scientific panel review.\n",
    "\n",
    "I will be using it to consolidate the information in the chronic, sub-chronic, and acute (short-term) studies. I'm also using a (very) simplified version for the sake of brevity in this exercise. Feel free to ask if you want the gory details and why I made the simplification decisions I did for this assignment.\n",
    "\n",
    "What question does this help a toxicologist answer? There is now a popular toxicology paper (Aurisano et al., 2023) and a method developed by many EPA toxicologists on deriving human-equivalent benchmark doses that allows us to rapidly process *in vivo* toxicity data into a concise value that speaks to the chronic oral toxicity of a chemical. This is a major goal of many toxicity assessments, as it strikes directly to the answer to the question \"How much of this can we allow in people's drinking water?\""
   ]
  },
  {
   "cell_type": "code",
   "execution_count": 17,
   "id": "6486cf74-4bc5-48b5-a0ea-3cdae116efc6",
   "metadata": {},
   "outputs": [],
   "source": [
    "df = noncancer_hazard.query(\n",
    "    \"source == 'ToxRefDB' and ((riskAssessmentClass == 'subchronic') or (riskAssessmentClass == 'developmental') or (riskAssessmentClass == 'chronic') or (riskAssessmentClass == 'short-term')) and ((toxvalType == 'NOAEL') or (toxvalType == 'LOAEL'))\"\n",
    ")"
   ]
  },
  {
   "cell_type": "code",
   "execution_count": 18,
   "id": "f23f68f4-7e6a-454e-98b8-ed32e4d9dd8e",
   "metadata": {},
   "outputs": [],
   "source": [
    "# See Table 4-1 of documentation for these conversion factors\n",
    "\n",
    "duration_cf = {\n",
    "    'chronic' : 1, \n",
    "    'subchronic' : (1/3), \n",
    "    'short-term' : (1/10)\n",
    "}\n",
    "\n",
    "species_cf = {\n",
    "    \"Mouse\": (1/11.3),\n",
    "    \"Rat\": (1/5.6),\n",
    "    \"Rabbit\": (1/3.),\n",
    "    \"Dog\": (1/1.7),\n",
    "}\n",
    "\n",
    "effectlevel_cf = {\n",
    "    \"LOAEL\" : (1/3),\n",
    "    \"NOAEL\" : 1,\n",
    "}"
   ]
  },
  {
   "cell_type": "code",
   "execution_count": 19,
   "id": "6d183af3-73b3-4a7c-b32d-718c8299b34d",
   "metadata": {},
   "outputs": [],
   "source": [
    "df.to_csv(os.path.join(os.getcwd(), \"tox_df.csv\"))"
   ]
  },
  {
   "cell_type": "code",
   "execution_count": 20,
   "id": "1c81cf33-4da8-466e-90ec-98730ce7fa0a",
   "metadata": {},
   "outputs": [
    {
     "name": "stderr",
     "output_type": "stream",
     "text": [
      "C:\\Users\\Nate\\AppData\\Local\\Temp\\ipykernel_19336\\710382916.py:9: SettingWithCopyWarning: \n",
      "A value is trying to be set on a copy of a slice from a DataFrame.\n",
      "Try using .loc[row_indexer,col_indexer] = value instead\n",
      "\n",
      "See the caveats in the documentation: https://pandas.pydata.org/pandas-docs/stable/user_guide/indexing.html#returning-a-view-versus-a-copy\n",
      "  df.loc[:, \"eBMDHED_mg_kg_day\"] = df.apply(compute_eBMDHED, axis=1)\n",
      "C:\\Users\\Nate\\AppData\\Local\\Temp\\ipykernel_19336\\710382916.py:10: SettingWithCopyWarning: \n",
      "A value is trying to be set on a copy of a slice from a DataFrame.\n",
      "Try using .loc[row_indexer,col_indexer] = value instead\n",
      "\n",
      "See the caveats in the documentation: https://pandas.pydata.org/pandas-docs/stable/user_guide/indexing.html#returning-a-view-versus-a-copy\n",
      "  df['Log(BMDHED)'] = np.log10(df['eBMDHED_mg_kg_day'])\n"
     ]
    }
   ],
   "source": [
    "import numpy as np\n",
    "\n",
    "def compute_eBMDHED(row):\n",
    "    duration = 1 if row[\"riskAssessmentClass\"] == \"developmental\" else duration_cf.get(row[\"toxvalType\"].lower(), 1)\n",
    "    species = species_cf.get(row[\"speciesCommon\"], 1)\n",
    "    study = effectlevel_cf.get(row[\"toxvalType\"], 1)\n",
    "    return row[\"toxvalNumeric\"] * study * species * duration\n",
    "\n",
    "df.loc[:, \"eBMDHED_mg_kg_day\"] = df.apply(compute_eBMDHED, axis=1)\n",
    "df['Log(BMDHED)'] = np.log10(df['eBMDHED_mg_kg_day'])\n"
   ]
  },
  {
   "cell_type": "code",
   "execution_count": 21,
   "id": "ed8fa573-eb2a-4b2c-ae7d-2e893fda8445",
   "metadata": {},
   "outputs": [],
   "source": [
    "lower_ci = df['Log(BMDHED)'].quantile(0.025)\n",
    "upper_ci = df['Log(BMDHED)'].quantile(0.975)"
   ]
  },
  {
   "cell_type": "markdown",
   "id": "747dbb5f-000c-479d-88e9-e647767fb057",
   "metadata": {},
   "source": [
    "I am personally a very visual scientist who would want a figure like this one served up to me to get an idea of the spread of the data from the collected studies. "
   ]
  },
  {
   "cell_type": "code",
   "execution_count": 22,
   "id": "e3fddc02-28f5-487a-8859-6a56941e6d07",
   "metadata": {},
   "outputs": [
    {
     "data": {
      "image/png": "[encoded data removed]",
      "text/plain": [
       "<Figure size 640x480 with 1 Axes>"
      ]
     },
     "metadata": {},
     "output_type": "display_data"
    }
   ],
   "source": [
    "fig, ax = plt.subplots()\n",
    "sns.histplot(df, x='Log(BMDHED)')\n",
    "ax.axvline(lower_ci, linestyle=\"--\", c=\"tab:red\")\n",
    "ax.axvline(upper_ci, linestyle=\"--\", c=\"tab:red\")\n",
    "plt.show()"
   ]
  },
  {
   "cell_type": "markdown",
   "id": "afb1d692-164c-4a44-aa34-3142099532b9",
   "metadata": {},
   "source": [
    "Finally, I would look at the 2.5th confidence interval to get a protective sense of the potential toxicity might be"
   ]
  },
  {
   "cell_type": "code",
   "execution_count": 23,
   "id": "c4413b6d-c18c-4992-bd2f-15846f97433a",
   "metadata": {},
   "outputs": [
    {
     "name": "stdout",
     "output_type": "stream",
     "text": [
      "0.5974100536182186\n"
     ]
    }
   ],
   "source": [
    "protective_BMD = float(10**lower_ci)\n",
    "print(protective_BMD)"
   ]
  },
  {
   "cell_type": "markdown",
   "id": "b2775d1a-443d-4581-9f5d-f68705ee3304",
   "metadata": {},
   "source": [
    "At this point we would start to apply uncertainty factors. I am not going to be this as uncertainty analysis is not especially prescriptive. Honestly there's a lot of scientific debate around that, and to quote my division director \"uncertainty analysis is a bunch of old, cranky toxicologists arguing over how many times to divide the number\". As usual, feel free to ask if you want to know more.\n",
    "\n",
    "But as a starting point the human-equivalent chronic oral benchmark dose where 97.5% of studies said things would be fine was about 0.6 mg/kg/day. So...avoid drinking 0.6 mg/kg/day atrazine. And, again, uncertainty factors would bring this lower because we don't necessary trust the certainty of the database (divide by 10) or the endpoint conversion (have a bunch of toxicologists argue about whether or not to divide by 2 or 3). The uncertainty factors lower the dose to be more protective - regulating around where the science told us bad things will start to happen wouldn't be protective. There is uncertainty in our science, and the uncertainty factors are intended to protect against that.\n",
    "\n",
    "Alright, let's check what the risk assessors might have said for their reference doses."
   ]
  },
  {
   "cell_type": "code",
   "execution_count": 24,
   "id": "6c9cc933-5d6a-4c86-91a0-d1cf26df9e8c",
   "metadata": {},
   "outputs": [
    {
     "data": {
      "text/html": [
       "<div>\n",
       "<style scoped>\n",
       "    .dataframe tbody tr th:only-of-type {\n",
       "        vertical-align: middle;\n",
       "    }\n",
       "\n",
       "    .dataframe tbody tr th {\n",
       "        vertical-align: top;\n",
       "    }\n",
       "\n",
       "    .dataframe thead th {\n",
       "        text-align: right;\n",
       "    }\n",
       "</style>\n",
       "<table border=\"1\" class=\"dataframe\">\n",
       "  <thead>\n",
       "    <tr style=\"text-align: right;\">\n",
       "      <th></th>\n",
       "      <th>id</th>\n",
       "      <th>source</th>\n",
       "      <th>subsource</th>\n",
       "      <th>sourceUrl</th>\n",
       "      <th>riskAssessmentClass</th>\n",
       "      <th>toxvalType</th>\n",
       "      <th>toxvalNumeric</th>\n",
       "      <th>toxvalUnits</th>\n",
       "      <th>criticalEffect</th>\n",
       "      <th>speciesCommon</th>\n",
       "      <th>exposureRoute</th>\n",
       "    </tr>\n",
       "  </thead>\n",
       "  <tbody>\n",
       "    <tr>\n",
       "      <th>7497</th>\n",
       "      <td>378472</td>\n",
       "      <td>Cal OEHHA</td>\n",
       "      <td>California DPH</td>\n",
       "      <td>https://oehha.ca.gov/chemicals</td>\n",
       "      <td>chronic</td>\n",
       "      <td>RfD</td>\n",
       "      <td>0.006</td>\n",
       "      <td>mg/kg-day</td>\n",
       "      <td>-</td>\n",
       "      <td>Human (RA)</td>\n",
       "      <td>oral</td>\n",
       "    </tr>\n",
       "    <tr>\n",
       "      <th>7522</th>\n",
       "      <td>377757</td>\n",
       "      <td>HEAST</td>\n",
       "      <td>-</td>\n",
       "      <td>https://cfpub.epa.gov/ncea/risk/recordisplay.c...</td>\n",
       "      <td>chronic</td>\n",
       "      <td>RfD</td>\n",
       "      <td>0.035</td>\n",
       "      <td>mg/kg-day</td>\n",
       "      <td>reduced weight gain</td>\n",
       "      <td>Human (RA)</td>\n",
       "      <td>oral</td>\n",
       "    </tr>\n",
       "    <tr>\n",
       "      <th>7524</th>\n",
       "      <td>383868</td>\n",
       "      <td>IRIS</td>\n",
       "      <td>-</td>\n",
       "      <td>https://www.epa.gov/iris</td>\n",
       "      <td>chronic</td>\n",
       "      <td>RfD</td>\n",
       "      <td>0.035</td>\n",
       "      <td>mg/kg-day</td>\n",
       "      <td>Other:Decreased body weight gain</td>\n",
       "      <td>Human (RA)</td>\n",
       "      <td>oral</td>\n",
       "    </tr>\n",
       "    <tr>\n",
       "      <th>7527</th>\n",
       "      <td>393612</td>\n",
       "      <td>OW Drinking Water Standards</td>\n",
       "      <td>EPA OW</td>\n",
       "      <td>https://www.epa.gov/ground-water-and-drinking-...</td>\n",
       "      <td>chronic</td>\n",
       "      <td>RfD</td>\n",
       "      <td>0.020</td>\n",
       "      <td>mg/kg-day</td>\n",
       "      <td>-</td>\n",
       "      <td>Human (RA)</td>\n",
       "      <td>oral</td>\n",
       "    </tr>\n",
       "    <tr>\n",
       "      <th>7536</th>\n",
       "      <td>377640</td>\n",
       "      <td>Pennsylvania DEP ToxValues</td>\n",
       "      <td>Health Effects Assessment Summary Table (HEAST)</td>\n",
       "      <td>https://www.dep.state.pa.us/toxicity/ToxicityV...</td>\n",
       "      <td>chronic</td>\n",
       "      <td>RfD</td>\n",
       "      <td>0.035</td>\n",
       "      <td>mg/kg-day</td>\n",
       "      <td>-</td>\n",
       "      <td>Human (RA)</td>\n",
       "      <td>-</td>\n",
       "    </tr>\n",
       "    <tr>\n",
       "      <th>7540</th>\n",
       "      <td>378430</td>\n",
       "      <td>RSL</td>\n",
       "      <td>ATSDR</td>\n",
       "      <td>https://www.epa.gov/risk/regional-screening-le...</td>\n",
       "      <td>chronic</td>\n",
       "      <td>RfD</td>\n",
       "      <td>0.003</td>\n",
       "      <td>mg/kg-day</td>\n",
       "      <td>-</td>\n",
       "      <td>Human (RA)</td>\n",
       "      <td>-</td>\n",
       "    </tr>\n",
       "    <tr>\n",
       "      <th>7543</th>\n",
       "      <td>391888</td>\n",
       "      <td>RSL</td>\n",
       "      <td>ATSDR</td>\n",
       "      <td>https://www.epa.gov/risk/regional-screening-le...</td>\n",
       "      <td>chronic</td>\n",
       "      <td>RfD</td>\n",
       "      <td>0.003</td>\n",
       "      <td>mg/kg-day</td>\n",
       "      <td>-</td>\n",
       "      <td>Human (RA)</td>\n",
       "      <td>oral</td>\n",
       "    </tr>\n",
       "  </tbody>\n",
       "</table>\n",
       "</div>"
      ],
      "text/plain": [
       "          id                       source  \\\n",
       "7497  378472                    Cal OEHHA   \n",
       "7522  377757                        HEAST   \n",
       "7524  383868                         IRIS   \n",
       "7527  393612  OW Drinking Water Standards   \n",
       "7536  377640   Pennsylvania DEP ToxValues   \n",
       "7540  378430                          RSL   \n",
       "7543  391888                          RSL   \n",
       "\n",
       "                                            subsource  \\\n",
       "7497                                   California DPH   \n",
       "7522                                                -   \n",
       "7524                                                -   \n",
       "7527                                           EPA OW   \n",
       "7536  Health Effects Assessment Summary Table (HEAST)   \n",
       "7540                                            ATSDR   \n",
       "7543                                            ATSDR   \n",
       "\n",
       "                                              sourceUrl riskAssessmentClass  \\\n",
       "7497                     https://oehha.ca.gov/chemicals             chronic   \n",
       "7522  https://cfpub.epa.gov/ncea/risk/recordisplay.c...             chronic   \n",
       "7524                           https://www.epa.gov/iris             chronic   \n",
       "7527  https://www.epa.gov/ground-water-and-drinking-...             chronic   \n",
       "7536  https://www.dep.state.pa.us/toxicity/ToxicityV...             chronic   \n",
       "7540  https://www.epa.gov/risk/regional-screening-le...             chronic   \n",
       "7543  https://www.epa.gov/risk/regional-screening-le...             chronic   \n",
       "\n",
       "     toxvalType  toxvalNumeric toxvalUnits                    criticalEffect  \\\n",
       "7497        RfD          0.006   mg/kg-day                                 -   \n",
       "7522        RfD          0.035   mg/kg-day               reduced weight gain   \n",
       "7524        RfD          0.035   mg/kg-day  Other:Decreased body weight gain   \n",
       "7527        RfD          0.020   mg/kg-day                                 -   \n",
       "7536        RfD          0.035   mg/kg-day                                 -   \n",
       "7540        RfD          0.003   mg/kg-day                                 -   \n",
       "7543        RfD          0.003   mg/kg-day                                 -   \n",
       "\n",
       "     speciesCommon exposureRoute  \n",
       "7497    Human (RA)          oral  \n",
       "7522    Human (RA)          oral  \n",
       "7524    Human (RA)          oral  \n",
       "7527    Human (RA)          oral  \n",
       "7536    Human (RA)             -  \n",
       "7540    Human (RA)             -  \n",
       "7543    Human (RA)          oral  "
      ]
     },
     "execution_count": 24,
     "metadata": {},
     "output_type": "execute_result"
    }
   ],
   "source": [
    "df = noncancer_hazard.query(\n",
    "    \"toxvalType == 'RfD'\"\n",
    ")\n",
    "\n",
    "df"
   ]
  },
  {
   "cell_type": "markdown",
   "id": "a6c2717a-1bcc-498e-86e7-842145c2d470",
   "metadata": {},
   "source": [
    "So, we see they probably applied some uncertainty factors or didn't completely align with what our database calibrated approach yielded, but generally there's concordance. I suspect that first study used a similar benchmark dose (~0.6 mg/kg/day) and divided by 10 for database uncertainty and maybe another 10 for interspecies variation? I'd have to track down the risk assessment. But notice how the RfDs are all close to our benchmark dose divided by some combination of \"divide by 10/3/2\" that we would apply during uncertainty analysis. That tells me the database method actually did a pretty spiffy job. "
   ]
  },
  {
   "cell_type": "markdown",
   "id": "438dd4e5-8809-4b69-9992-d27e04bb5faa",
   "metadata": {},
   "source": [
    "To review:\n",
    "\n",
    "I selected the chemical atrazine due to its use as a common pesticide. The assigment was to select and/or develop some tools for characterizing the properties of the chemical. Given the premise of Human Chemical, I decided that simulating a workflow examining properties that a toxicity risk assessor might care about: the bioactivities, in vivo activities, and ADME properties.\n",
    "\n",
    "Tool Set 1: PubChem and Bioactivity data - I built a small wrapper for PubChem's APIs to access bioactivity data and flag it by search terms that might indicate activities of concern. It flagged developmental toxicity, which is definitely of interest.\n",
    "\n",
    "Tool Set 2: PubMed, the literature, and language models - I built a small wrapper for manipulating some of PubMed's APIs to grab recent literature on atrazine and applied an LLM (BioGPT-3) to quickly generate a short statement of key findings. Based on this I was able to hone down to some studies that were relevant to the potential developmental, endocrinal, and ecological hazard. In a risk-assessment context I would want to take a look at those studies because they could provide new sources of data or information.\n",
    "\n",
    "Tool Set 3: Chembl, ADME properties - I built a small wrapper for accessing ChemBL (a data source for pharmaceuticals and therefore containing ADME information) to see if I could find anything on atrazine's absorption, distribution, metabolism, or excretion. It was a modest hit, but we did learn that atrazine has a relatively low (~-5) LogKp, which typically indicates it isn't extremely well absorbed by the skin. So maybe less of a concern for folks spraying down the crops if they're wearing masks (we'd need to dig deeper into inhalation data).\n",
    "\n",
    "Tool Set 4: ToxRef, DCAP, CTX APIs - I built a small wrapper for accessing the CTX APIs to gather information on the in vivo tox data that is currently public. To help interpret these collections, I applied a method very recently proposed by EPA for using database information to consolidate a single benchmark dose of the oral chronic toxicity of atrazine, providing insight into how concerned I might be about it entering drinking water or being eating along with the apples. We skipped uncertainty factor analysis because I don't have a sufficiently cranky toxicologist to argue about which ones to use, but there are ways to do it. Finally, we were also able to access the reference doses (RfD) in ToxRef which gives us direct knowledge of what risk assessors have concluded are the official toxicological values of atrazine.\n",
    "\n",
    "There's a lot more that could be done, but I need to stop somewhere. The assignment seemed to push toward a cheminformatics approach in terms of characterizing toxicologically interesting properties, so I went with tools along those lines. If there's a desire for a more QSAR-driven approach or an examination of my accumen with machine learning, I am happy to converse or oblige."
   ]
  }
 ],
 "metadata": {
  "kernelspec": {
   "display_name": "Python 3 (ipykernel)",
   "language": "python",
   "name": "python3"
  },
  "language_info": {
   "codemirror_mode": {
    "name": "ipython",
    "version": 3
   },
   "file_extension": ".py",
   "mimetype": "text/x-python",
   "name": "python",
   "nbconvert_exporter": "python",
   "pygments_lexer": "ipython3",
   "version": "3.13.2"
  }
 },
 "nbformat": 4,
 "nbformat_minor": 5
}
