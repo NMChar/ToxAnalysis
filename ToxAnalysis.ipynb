{
 "cells": [
  {
   "cell_type": "code",
   "execution_count": 1,
   "id": "47ec0ca9-d8be-438b-93ee-dab607fdff12",
   "metadata": {},
   "outputs": [],
   "source": [
    "import sys\n",
    "import os\n",
    "import gc\n",
    "\n",
    "package_path = os.path.join(os.getcwd(), \"packages/\")\n",
    "if package_path not in sys.path:\n",
    "    sys.path.insert(0, package_path)\n",
    "\n",
    "import PubChemHazardAPI\n",
    "import PubChemBioactivityAPI\n",
    "import PubChemIdentifiers\n",
    "import PubMedAPI\n",
    "import AssayData\n",
    "import ChemblAPI\n",
    "import CTXAPI\n",
    "\n",
    "import LLMAnalysis # this involves loading a huggingface model (BioGPT-Large) so expect the import block to take a little while - also expect some loading bars. If it's bugging you just comment it out\n",
    "                   # I will point out the single block that uses it later\n",
    "\n",
    "from tqdm import tqdm\n",
    "import time\n",
    "import json\n",
    "\n",
    "import pandas as pd\n",
    "\n",
    "import matplotlib.pyplot as plt\n",
    "import seaborn as sns\n",
    "\n",
    "from dotenv import load_dotenv\n"
   ]
  },
  {
   "cell_type": "markdown",
   "id": "26e8c275-c58d-49dd-aa79-4546d1bbf068",
   "metadata": {},
   "source": [
    "I wanted to develop an example sheet of how some of these python for wrappers for public APIs could be useful. Also there's some cool LLM stuff. It was a fun weekend project.\n",
    "\n",
    "I zeroed in on the sort of thing a risk-concerned toxicologist would want to consider during an assessment. Does the literature say it's scary? Does it show activity in in vitro NAMs? Will it absorb through the skin? Etc. Etc. I therefore selected tools and a workflow from this perspective. Please ask me any question you'd like about supervised machine learning if that is of specific interest.\n",
    "\n",
    "If the assignment was directly a QSAR *or* a chemical without a large amount of data I would dive into read-across (automated by GenRA or an in-house similarity approach) and use the systems I developed and applied here to begin characterizing similar compounds that have data. "
   ]
  },
  {
   "cell_type": "code",
   "execution_count": 2,
   "id": "434e9bdd-21d3-4f3f-98af-cb91245dd5f0",
   "metadata": {},
   "outputs": [
    {
     "name": "stdout",
     "output_type": "stream",
     "text": [
      "C:\\Users\\Nate\\Documents\\Projects\\2025\\ChemicalToxAnalysis\n"
     ]
    }
   ],
   "source": [
    "print(os.getcwd())"
   ]
  },
  {
   "cell_type": "code",
   "execution_count": 3,
   "id": "7c48207d-3ee5-4afe-8fbf-4b6bda3e08eb",
   "metadata": {},
   "outputs": [],
   "source": [
    "CHEMICAL_NAME = 'atrazine' # common pesticide - good test case!\n",
    "\n",
    "load_dotenv()\n",
    "CTX_API_KEY = os.getenv(\"CTX_API_KEY\")\n",
    "if not CTX_API_KEY:\n",
    "    raise ValueError(\"API key not found. Please set CTX_API_KEY in your .env file.\") # email the EPA for your own key if you don't have one!"
   ]
  },
  {
   "cell_type": "code",
   "execution_count": 4,
   "id": "055d44ec-fd06-479c-bbf6-140a3d5da497",
   "metadata": {},
   "outputs": [],
   "source": [
    "inchi_key = PubChemIdentifiers.inchi_from_name(CHEMICAL_NAME)\n",
    "# I don't generally trust preferred names so I'm going to convert to Inchi for tracking purposes. In a production environment we would need to be careful in how we map preferred name to Inchikey\n",
    "# Confining scope to handling compounds. Substances would require more upstream handling/thinking\n",
    "pubchem_cid = PubChemIdentifiers.pubchem_cid_from_inchi(inchi_key)"
   ]
  },
  {
   "cell_type": "code",
   "execution_count": 5,
   "id": "092755ef-7cd4-47ea-926e-99c5b24077bb",
   "metadata": {},
   "outputs": [
    {
     "name": "stdout",
     "output_type": "stream",
     "text": [
      "{'developmental': 1, 'mutagen': 2, 'CYP': 3}\n",
      "['Harmful if swallowed Acute toxicity, oral', 'May cause an allergic skin reaction Skin sensitization', 'Causes serious eye irritation Serious eye damage/eye irritation', 'Causes eye irritation Serious eye damage/eye irritation', 'May be harmful if inhaled Acute toxicity, inhalation', 'Suspected of damaging fertility or the unborn child Reproductive toxicity', 'May cause damage to organs Specific target organ toxicity, single exposure', 'May cause damage to organs through prolonged or repeated exposure Specific target organ toxicity, repeated exposure', 'Very toxic to aquatic life Hazardous to the aquatic environment, acute hazard', 'Very toxic to aquatic life with long lasting effects Hazardous to the aquatic environment, long-term hazard']\n"
     ]
    }
   ],
   "source": [
    "assays = PubChemBioactivityAPI.pubchem_bioactivity_summary(pubchem_cid)\n",
    "bioactivity_summary = PubChemBioactivityAPI.bioactivity_json_to_dframe(assays)\n",
    "bioactivity_summary = bioactivity_summary.loc[bioactivity_summary['Activity Outcome'] == 'Active']\n",
    "\n",
    "try: \n",
    "    with open(os.path.join(os.getcwd(), f\"assay_desc_{pubchem_cid}.json\"), \"r\") as fin:\n",
    "        tox_assays = json.load(fin)\n",
    "except:\n",
    "    print(\"No JSON detected. Analyzing assays.\")\n",
    "    tox_assays = {}\n",
    "    for aid in tqdm(bioactivity_summary['AID'], desc=\"Detecting Relevant Assays\"):\n",
    "        assay_desc = PubChemBioactivityAPI.assay_description(aid)\n",
    "        relevance = AssayData.tox_keyword_hits(assay_desc)\n",
    "        if relevance != None:\n",
    "            tox_assays[aid] = {\"keywords\" : relevance, \"desc\" : assay_desc}\n",
    "        # avoid angering pubchem gods - stick to < 5 requests / sec\n",
    "        time.sleep(0.21)\n",
    "    with open(os.path.join(os.getcwd(), f\"assay_desc_{pubchem_cid}.json\"), \"w\") as fout:\n",
    "        json.dump(tox_assays, fout, indent=2)\n",
    "\n",
    "BA_summary = AssayData.summarize_assay_data(tox_assays)\n",
    "GHS_summary = PubChemHazardAPI.summarize_hazard_codes(PubChemHazardAPI.extract_ghs_hazard_codes(pubchem_cid))\n",
    "\n",
    "print(BA_summary)\n",
    "print(GHS_summary['GHS Definitions'])\n"
   ]
  },
  {
   "cell_type": "raw",
   "id": "0208ce99-887a-432e-885b-21256112388a",
   "metadata": {},
   "source": [
    "Some hazard code profile and activity in bioassays associated with CYP metabolism/activity, mutagens, and one developmental assay. It's enough that I'd want to pull up the abstracts and check how many of these indicate a true issue. The ecotox is noticeable."
   ]
  },
  {
   "cell_type": "code",
   "execution_count": 6,
   "id": "7b114e0d-7fbb-4cbb-8674-3aeff62456fa",
   "metadata": {},
   "outputs": [
    {
     "data": {
      "text/plain": [
       "{'keywords': ['developmental'],\n",
       " 'desc': ['U.S. Tox21 Program',\n",
       "  '',\n",
       "  'National Center for Advancing Translational Sciences [NCATS]',\n",
       "  'NIH Chemical Genomics Center [NCGC]',\n",
       "  'U.S. Environmental Protection Agency [EPA]',\n",
       "  'National Institutes of Environmental Health Sciences [NIEHS]',\n",
       "  'National Toxicology Program [NTP]',\n",
       "  'U.S. Food and Drug Administration [FDA]',\n",
       "  '',\n",
       "  'Tox21 Assay Overview:',\n",
       "  '',\n",
       "  'The sonic hedgehog (Shh) pathway is essential for normal embryonic development. Dysregulation of the Shh pathway can cause severe developmental defects in organs. Therefore chemicals that interfere with the pathway are potential developmental toxicants. A cell line designated 3T3Gli1-Luc (DMB/OARSA/CFSAN/FDA, Laurel, MD), a NIH/3T3 derived clone containing stably integrated Gli1-Luc reporter is used to detect chemical interference of the Shh pathway, by changes in the expression of the firefly Luc gene under the control of the Gli1 transcriptional response element. This cell line was used to screen Tox21 libraries for identifying and prioritizing the potential developmental toxicants that interfere Shh pathway. Conditioned medium-stimulated mode was used to screen for chemicals inhibiting Shh signaling. The cytotoxicity of the compounds was tested in parallel by measuring the cell viability using CellTiter-Fluor assay system (Promega, Madison, WI) in the same wells. To differentiate true SHH antagonists from cytotoxic substances, the assay is multiplexed with a cell viability assay.']}"
      ]
     },
     "execution_count": 6,
     "metadata": {},
     "output_type": "execute_result"
    }
   ],
   "source": [
    "tox_assays['1259392'] # pulling the 'developmental' record by its AID. It looks like activity in this assay might represent a genuine devtox concern, but it's hardly an in vivo study"
   ]
  },
  {
   "cell_type": "markdown",
   "id": "72c544d6-2c24-4976-a590-25d5a6671ca9",
   "metadata": {},
   "source": [
    "In the context of further investigating the toxicology of this molecule I would also be interested in the scientific literature. The bioactivity data flagged developmental toxicity, so let's grab some abstracts from the past year with keywords 'atrazine', 'developmental', and 'toxicity'"
   ]
  },
  {
   "cell_type": "code",
   "execution_count": 7,
   "id": "6f757523-3751-4f61-aa84-b1e68be92553",
   "metadata": {},
   "outputs": [
    {
     "name": "stdout",
     "output_type": "stream",
     "text": [
      "1. Int J Mol Sci. 2024 Dec 5;25(23):13066. doi: 10.3390/ijms252313066.\n",
      "\n",
      "Integrated Analysis of Neuroendocrine and Neurotransmission Pathways Following \n",
      "Developmental Atrazine Exposure in Zebrafish.\n",
      "\n",
      "Stradtman SC(1), Swihart JN(1), Moore K(1), Akoro IN(1), Ahkin Chin Tai JK(1), \n",
      "Tamagno WA(1), Freeman JL(1).\n",
      "\n",
      "Author information:\n",
      "(1)School of Health Sciences, Purdue University, West Lafayette, IN 47907, USA.\n",
      "\n",
      "Atrazine is an endocrine-disrupting herbicide, with exposure impacting adverse \n",
      "outcomes along multiple endocrine pathways. This study investigated the \n",
      "neuroendocrine system as the central target of atrazine toxicity, examining \n",
      "effects of early developmental exposures on neurohormones and genes associated \n",
      "with kisspeptin, hypothalamic, pituitary, and dopamine systems. Zebrafish were \n",
      "exposed to 0, 0.3, 3, or 30 ppb (µg/L) atrazine during two developmental time \n",
      "windows. For neurohormone assessments, exposure was ceased at the end of \n",
      "embryogenesis (72 h post-fertilization, hpf) and analyzed immediately or grown \n",
      "to 0.5, 2, or 2.5 years post-fertilization (ypf). Gene expression was measured \n",
      "immediately after 1-72 hpf or 72-120 hpf exposure. Estradiol decreased in the \n",
      "0.3 and 30 ppb groups in 0.5 ypf female brains, while dopamine decreased in the \n",
      "same treatment groups at 72 hpf. Increases were also observed in 2.5 ypf female \n",
      "brains (3 ppb) for estradiol and in 2 ypf female and male brains (3 and 30 ppb) \n",
      "for dopamine. Gene expression alterations occurred for the follicle-stimulating \n",
      "hormone (fsh) at 72 hpf and the growth hormone (gh1) at 72 and 120 hpf. Overall, \n",
      "results indicated that developmental atrazine exposure has immediate and \n",
      "long-term sex-specific effects on neurohormonal systems.\n",
      "\n",
      "DOI: 10.3390/ijms252313066\n",
      "PMCID: PMC11641385\n",
      "PMID: 39684776 [Indexed for MEDLINE]\n",
      "\n",
      "Conflict of interest statement: The authors declare no conflicts of interest.\n"
     ]
    }
   ],
   "source": [
    "pmids = PubMedAPI.get_pubmed_ids(CHEMICAL_NAME, keywords=['developmental', 'toxicity'], max_results=10)\n",
    "first_abstract = PubMedAPI.get_abstract(pmids[0])\n",
    "print(first_abstract)"
   ]
  },
  {
   "cell_type": "markdown",
   "id": "61803dac-39c3-446a-87a7-5816147deef7",
   "metadata": {},
   "source": [
    "Personally I have no issue reading the literature, but let's have some more fun with it. I wanted to explore the utility of an LLM for getting simplied but representative summaries of the abstracts recovered from pubmed. Please note: this method is rough. I think there's promise but it requires development and validation outside the scope of this assignment, and more careful validation the LLM is consistently delivering a reliable summary. Honestly I just thought it was a fun idea to explore.\n",
    "\n",
    "This function downloads and runs BioGPT-Large from HuggingFace so it will be memory and processor hungry. In a perfect world I'd have an api key to more advanced models, but they charge a corporate rate.\n",
    "\n",
    "*If you commented out the LLM import earlier this block will not work. It will take a little while for the model to do its thing. Also the models are currently stochastic...there's a way to fix the seed for reproducibility but I would need to dig into it*"
   ]
  },
  {
   "cell_type": "code",
   "execution_count": 8,
   "id": "897c80f2-56fd-4068-b2ca-348d412a0a6f",
   "metadata": {},
   "outputs": [
    {
     "name": "stdout",
     "output_type": "stream",
     "text": [
      "39684776\n",
      " Developmental atrazine exposure impacts sex-specific neurohormonal pathways in zebrafish. The findings are in alignment with data from the current literature indicating that atrazine is an endocrine disruptor with effects on the hypothalamus-pituitary-gonadal axis, affecting both the brain and reproductive organs. The current findings are consistent with data from the current literature indicating that atrazine is an endocrine disruptor with effects on the hypothalamus-pituitary-gonadal axis, affecting both the brain and reproductive organs.\n",
      "\n",
      "39226955\n",
      " a systematic analysis of transcriptome data sets of zebrafish exposed to 1 8 environmental chemicals and 14 0 related gene expression profiles identified potential disruptors of spliceosome and ribosome biosynthesis.\n",
      "\n",
      "39195672\n",
      " The current research reviewed the direct toxicity effects and mechanisms of different insecticides and herbicides on zebrafish thyroid functions and indirect toxicity effects originating from thyroid dysfunction. The overall toxicity of insecticides on the zebrafish thyroid was greater than that of herbicides based on effective concentrations. Besides thyroid hormone levels and HPT axis-related gene expression alteration, developmental toxicity, immunotoxicity, and oxidative damage effects were all observed. These data are necessary for understanding the thyroid interference effect of pesticides on humans and for screening for thyroid disruptors in surface water with zebrafish models for the pre-assessment of human health risks and ecological risk control in the future.\n",
      "\n",
      "38896413\n",
      " The herbicide pendimethalin is present in aquatic systems worldwide and is associated with sub-lethal effects in fish.\n",
      "\n"
     ]
    }
   ],
   "source": [
    "llm_key_findings = {}\n",
    "for pmid in pmids:\n",
    "    key_finding = LLMAnalysis.key_finding(PubMedAPI.get_abstract(pmid))\n",
    "    llm_key_findings[pmid] = key_finding\n",
    "    print(f\"{pmid}\\n {key_finding}\\n\")"
   ]
  },
  {
   "cell_type": "markdown",
   "id": "2431cc0a-9e91-471c-aac3-1493b3d3c3e3",
   "metadata": {},
   "source": [
    "So some interesting results. It looks like the first is most immediately relevant to atrazine."
   ]
  },
  {
   "cell_type": "code",
   "execution_count": 9,
   "id": "ccf96b16-8038-44b2-9c0a-af115547e7fd",
   "metadata": {},
   "outputs": [
    {
     "data": {
      "text/plain": [
       "64"
      ]
     },
     "execution_count": 9,
     "metadata": {},
     "output_type": "execute_result"
    }
   ],
   "source": [
    "gc.collect() # going to free up some RAM because that model is big and I found my script getting twitchy"
   ]
  },
  {
   "cell_type": "code",
   "execution_count": 11,
   "id": "07ed0c65-ca8f-4948-a597-fdbd54206264",
   "metadata": {},
   "outputs": [
    {
     "data": {
      "text/plain": [
       "['39684776', '39226955', '39195672', '38896413']"
      ]
     },
     "execution_count": 11,
     "metadata": {},
     "output_type": "execute_result"
    }
   ],
   "source": [
    "pmids"
   ]
  },
  {
   "cell_type": "code",
   "execution_count": 12,
   "id": "596813e3-951b-4298-b376-594cce19f2b3",
   "metadata": {},
   "outputs": [
    {
     "name": "stdout",
     "output_type": "stream",
     "text": [
      "1. Int J Mol Sci. 2024 Dec 5;25(23):13066. doi: 10.3390/ijms252313066.\n",
      "\n",
      "Integrated Analysis of Neuroendocrine and Neurotransmission Pathways Following \n",
      "Developmental Atrazine Exposure in Zebrafish.\n",
      "\n",
      "Stradtman SC(1), Swihart JN(1), Moore K(1), Akoro IN(1), Ahkin Chin Tai JK(1), \n",
      "Tamagno WA(1), Freeman JL(1).\n",
      "\n",
      "Author information:\n",
      "(1)School of Health Sciences, Purdue University, West Lafayette, IN 47907, USA.\n",
      "\n",
      "Atrazine is an endocrine-disrupting herbicide, with exposure impacting adverse \n",
      "outcomes along multiple endocrine pathways. This study investigated the \n",
      "neuroendocrine system as the central target of atrazine toxicity, examining \n",
      "effects of early developmental exposures on neurohormones and genes associated \n",
      "with kisspeptin, hypothalamic, pituitary, and dopamine systems. Zebrafish were \n",
      "exposed to 0, 0.3, 3, or 30 ppb (µg/L) atrazine during two developmental time \n",
      "windows. For neurohormone assessments, exposure was ceased at the end of \n",
      "embryogenesis (72 h post-fertilization, hpf) and analyzed immediately or grown \n",
      "to 0.5, 2, or 2.5 years post-fertilization (ypf). Gene expression was measured \n",
      "immediately after 1-72 hpf or 72-120 hpf exposure. Estradiol decreased in the \n",
      "0.3 and 30 ppb groups in 0.5 ypf female brains, while dopamine decreased in the \n",
      "same treatment groups at 72 hpf. Increases were also observed in 2.5 ypf female \n",
      "brains (3 ppb) for estradiol and in 2 ypf female and male brains (3 and 30 ppb) \n",
      "for dopamine. Gene expression alterations occurred for the follicle-stimulating \n",
      "hormone (fsh) at 72 hpf and the growth hormone (gh1) at 72 and 120 hpf. Overall, \n",
      "results indicated that developmental atrazine exposure has immediate and \n",
      "long-term sex-specific effects on neurohormonal systems.\n",
      "\n",
      "DOI: 10.3390/ijms252313066\n",
      "PMCID: PMC11641385\n",
      "PMID: 39684776 [Indexed for MEDLINE]\n",
      "\n",
      "Conflict of interest statement: The authors declare no conflicts of interest.\n"
     ]
    }
   ],
   "source": [
    "print(PubMedAPI.get_abstract(pmids[0])) # read the abstract"
   ]
  },
  {
   "cell_type": "markdown",
   "id": "546c991c-cc05-499e-9b69-73013fc9336f",
   "metadata": {},
   "source": [
    "Cool! The LLM did a decent job summarizing the abstracts for quick examination.\n",
    "\n",
    "\n",
    "Let's zero in on human toxicity and some of its APIs. One of the first places I'd check is whether we know anything about its ADME (absorption, distribution, metabolism, excretion) to see if there's quantitative data on things like how much might permeate the skin. I will query ChemBL and its database of ADME activities. There are other resources (PKDB, httk) but I like ChemBL's focus on pharmacology so, for the purposes of this exercise, let's see if it offers any insight into atrazine."
   ]
  },
  {
   "cell_type": "code",
   "execution_count": 13,
   "id": "9286d081-f815-4610-bf24-adf4fb576964",
   "metadata": {},
   "outputs": [
    {
     "data": {
      "text/html": [
       "<div>\n",
       "<style scoped>\n",
       "    .dataframe tbody tr th:only-of-type {\n",
       "        vertical-align: middle;\n",
       "    }\n",
       "\n",
       "    .dataframe tbody tr th {\n",
       "        vertical-align: top;\n",
       "    }\n",
       "\n",
       "    .dataframe thead th {\n",
       "        text-align: right;\n",
       "    }\n",
       "</style>\n",
       "<table border=\"1\" class=\"dataframe\">\n",
       "  <thead>\n",
       "    <tr style=\"text-align: right;\">\n",
       "      <th></th>\n",
       "      <th>assay_chembl_id</th>\n",
       "      <th>assay_description</th>\n",
       "      <th>bao_endpoint</th>\n",
       "      <th>target_organism</th>\n",
       "      <th>target_pref_name</th>\n",
       "      <th>type</th>\n",
       "      <th>units</th>\n",
       "      <th>value</th>\n",
       "    </tr>\n",
       "  </thead>\n",
       "  <tbody>\n",
       "    <tr>\n",
       "      <th>0</th>\n",
       "      <td>CHEMBL865441</td>\n",
       "      <td>Permeability in human skin</td>\n",
       "      <td>BAO_0000179</td>\n",
       "      <td>Homo sapiens</td>\n",
       "      <td>Homo sapiens</td>\n",
       "      <td>log Kp</td>\n",
       "      <td>cm/s</td>\n",
       "      <td>-5.56</td>\n",
       "    </tr>\n",
       "    <tr>\n",
       "      <th>3</th>\n",
       "      <td>CHEMBL925052</td>\n",
       "      <td>Permeability across human Skin</td>\n",
       "      <td>BAO_0000179</td>\n",
       "      <td>Homo sapiens</td>\n",
       "      <td>Skin</td>\n",
       "      <td>log Kp</td>\n",
       "      <td>None</td>\n",
       "      <td>-5.56</td>\n",
       "    </tr>\n",
       "  </tbody>\n",
       "</table>\n",
       "</div>"
      ],
      "text/plain": [
       "  assay_chembl_id               assay_description bao_endpoint  \\\n",
       "0    CHEMBL865441      Permeability in human skin  BAO_0000179   \n",
       "3    CHEMBL925052  Permeability across human Skin  BAO_0000179   \n",
       "\n",
       "  target_organism target_pref_name    type units  value  \n",
       "0    Homo sapiens     Homo sapiens  log Kp  cm/s  -5.56  \n",
       "3    Homo sapiens             Skin  log Kp  None  -5.56  "
      ]
     },
     "execution_count": 13,
     "metadata": {},
     "output_type": "execute_result"
    }
   ],
   "source": [
    "chembl_id = ChemblAPI.chemblid_from_inchi(inchi_key)\n",
    "assay_type = 'A'\n",
    "organism = 'Homo sapiens'\n",
    "types = ['log Kp', 'F', 'Vd', 'CL'] # logKp for skin permeability, F for bioavailability, Vd for volume of distribution, CL for clearance - this should give a good overview of expected ADME if there's data\n",
    "\n",
    "adme_assays = ChemblAPI.chembl_ADME(chembl_id, organism)\n",
    "clean_adme = ChemblAPI.clean_ADME(adme_assays, types)\n",
    "clean_adme"
   ]
  },
  {
   "cell_type": "markdown",
   "id": "16d267b1-2f77-484e-9476-35b07fc2c914",
   "metadata": {},
   "source": [
    "Skin permeability looks to be relatively low for this compound. That's good for something that's not intended for topical administration. It can't do damage if it doesn't get into the body.\n",
    "\n",
    "Finally let use CTX API and ToxRef to see what in vivo toxicity data is there for assessment."
   ]
  },
  {
   "cell_type": "code",
   "execution_count": 14,
   "id": "25ae10ea-ee77-475f-8514-7d172bfddec8",
   "metadata": {},
   "outputs": [
    {
     "data": {
      "text/plain": [
       "'DTXSID9020112'"
      ]
     },
     "execution_count": 14,
     "metadata": {},
     "output_type": "execute_result"
    }
   ],
   "source": [
    "CTXAPI.get_dtxsid_from_inchikey(inchi_key, CTX_API_KEY)"
   ]
  },
  {
   "cell_type": "code",
   "execution_count": 15,
   "id": "65bb18d9-29d0-4553-a1f8-767db6c59408",
   "metadata": {},
   "outputs": [
    {
     "name": "stdout",
     "output_type": "stream",
     "text": [
      "[{'id': 2680, 'source': 'EPA OPP', 'url': 'http://www.epa.gov/pesticides/carlist/', 'cancerCall': 'Not Likely to Be Carcinogenic in Humans', 'dtxsid': 'DTXSID9020112', 'exposureRoute': '-'}, {'id': 2681, 'source': 'IARC', 'url': 'https://monographs.iarc.who.int/list-of-classifications/', 'cancerCall': 'Group 3 - Not classifiable as to its carcinogenicity to humans', 'dtxsid': 'DTXSID9020112', 'exposureRoute': '-'}]\n"
     ]
    }
   ],
   "source": [
    "dtxsid = CTXAPI.get_dtxsid_from_inchikey(inchi_key, CTX_API_KEY) # the DTXSID is the core chemical identifier for most USEPA systems\n",
    "cancer_data = CTXAPI.get_cancer_data(dtxsid, CTX_API_KEY)\n",
    "print(cancer_data)"
   ]
  },
  {
   "cell_type": "code",
   "execution_count": 16,
   "id": "510d5b73-77e3-4309-baa7-4e9eae493b5e",
   "metadata": {},
   "outputs": [
    {
     "data": {
      "text/plain": [
       "Index(['id', 'year', 'source', 'dtxsid', 'exposureRoute', 'priorityId',\n",
       "       'subsource', 'sourceUrl', 'subsourceUrl', 'riskAssessmentClass',\n",
       "       'toxvalType', 'toxvalSubtype', 'toxvalNumeric',\n",
       "       'toxvalNumericQualifier', 'toxvalUnits', 'studyType',\n",
       "       'studyDurationClass', 'studyDurationValue', 'studyDurationUnits',\n",
       "       'strain', 'sex', 'population', 'exposureMethod', 'exposureForm',\n",
       "       'media', 'lifestage', 'generation', 'criticalEffect', 'detailText',\n",
       "       'supercategory', 'speciesCommon', 'humanEcoNt'],\n",
       "      dtype='object')"
      ]
     },
     "execution_count": 16,
     "metadata": {},
     "output_type": "execute_result"
    }
   ],
   "source": [
    "ctx_hazard = CTXAPI.get_hazard_data(dtxsid, CTX_API_KEY)\n",
    "len(ctx_hazard)\n",
    "pd.DataFrame(ctx_hazard).columns"
   ]
  },
  {
   "cell_type": "code",
   "execution_count": 17,
   "id": "4caad582-5dfb-4db3-a117-47f743cc41e3",
   "metadata": {},
   "outputs": [],
   "source": [
    "noncancer_hazard = pd.DataFrame(ctx_hazard)[['id', 'source', 'subsource', 'sourceUrl', 'riskAssessmentClass', 'toxvalType', 'toxvalNumeric', 'toxvalUnits', 'criticalEffect', 'speciesCommon', 'exposureRoute']]"
   ]
  },
  {
   "cell_type": "code",
   "execution_count": 18,
   "id": "6486cf74-4bc5-48b5-a0ea-3cdae116efc6",
   "metadata": {},
   "outputs": [],
   "source": [
    "df = noncancer_hazard.query(\n",
    "    \"source == 'ToxRefDB' and ((riskAssessmentClass == 'subchronic') or (riskAssessmentClass == 'developmental') or (riskAssessmentClass == 'chronic') or (riskAssessmentClass == 'short-term')) and ((toxvalType == 'NOAEL') or (toxvalType == 'LOAEL'))\"\n",
    ")"
   ]
  },
  {
   "cell_type": "code",
   "execution_count": 19,
   "id": "6d183af3-73b3-4a7c-b32d-718c8299b34d",
   "metadata": {},
   "outputs": [],
   "source": [
    "df.to_csv(os.path.join(os.getcwd(), \"tox_df.csv\"))"
   ]
  },
  {
   "cell_type": "markdown",
   "id": "d316d019-fbd3-4a7b-900f-d4df8c5e4992",
   "metadata": {},
   "source": [
    "Let's add a query that will let us zero in on Developmental studies with an associated NOAEL (for maximum protective estimation)"
   ]
  },
  {
   "cell_type": "code",
   "execution_count": 26,
   "id": "ed8fa573-eb2a-4b2c-ae7d-2e893fda8445",
   "metadata": {},
   "outputs": [
    {
     "data": {
      "text/html": [
       "<div>\n",
       "<style scoped>\n",
       "    .dataframe tbody tr th:only-of-type {\n",
       "        vertical-align: middle;\n",
       "    }\n",
       "\n",
       "    .dataframe tbody tr th {\n",
       "        vertical-align: top;\n",
       "    }\n",
       "\n",
       "    .dataframe thead th {\n",
       "        text-align: right;\n",
       "    }\n",
       "</style>\n",
       "<table border=\"1\" class=\"dataframe\">\n",
       "  <thead>\n",
       "    <tr style=\"text-align: right;\">\n",
       "      <th></th>\n",
       "      <th>id</th>\n",
       "      <th>source</th>\n",
       "      <th>subsource</th>\n",
       "      <th>sourceUrl</th>\n",
       "      <th>riskAssessmentClass</th>\n",
       "      <th>toxvalType</th>\n",
       "      <th>toxvalNumeric</th>\n",
       "      <th>toxvalUnits</th>\n",
       "      <th>criticalEffect</th>\n",
       "      <th>speciesCommon</th>\n",
       "      <th>exposureRoute</th>\n",
       "    </tr>\n",
       "  </thead>\n",
       "  <tbody>\n",
       "    <tr>\n",
       "      <th>7552</th>\n",
       "      <td>223525</td>\n",
       "      <td>ToxRefDB</td>\n",
       "      <td>opp_der</td>\n",
       "      <td>-</td>\n",
       "      <td>developmental</td>\n",
       "      <td>NOAEL</td>\n",
       "      <td>5.0</td>\n",
       "      <td>mg/kg-day</td>\n",
       "      <td>reproductive performance-resorptions/resorptions</td>\n",
       "      <td>Rabbit</td>\n",
       "      <td>oral</td>\n",
       "    </tr>\n",
       "    <tr>\n",
       "      <th>7557</th>\n",
       "      <td>224271</td>\n",
       "      <td>ToxRefDB</td>\n",
       "      <td>opp_der</td>\n",
       "      <td>-</td>\n",
       "      <td>developmental</td>\n",
       "      <td>NOAEL</td>\n",
       "      <td>25.0</td>\n",
       "      <td>mg/kg-day</td>\n",
       "      <td>in life observation-body weight/body weight ga...</td>\n",
       "      <td>Rat</td>\n",
       "      <td>oral</td>\n",
       "    </tr>\n",
       "    <tr>\n",
       "      <th>7584</th>\n",
       "      <td>222508</td>\n",
       "      <td>ToxRefDB</td>\n",
       "      <td>opp_der</td>\n",
       "      <td>-</td>\n",
       "      <td>developmental</td>\n",
       "      <td>NOAEL</td>\n",
       "      <td>5.0</td>\n",
       "      <td>mg/kg-day</td>\n",
       "      <td>in life observation-body weight/body weight|in...</td>\n",
       "      <td>Rabbit</td>\n",
       "      <td>oral</td>\n",
       "    </tr>\n",
       "  </tbody>\n",
       "</table>\n",
       "</div>"
      ],
      "text/plain": [
       "          id    source subsource sourceUrl riskAssessmentClass toxvalType  \\\n",
       "7552  223525  ToxRefDB   opp_der         -       developmental      NOAEL   \n",
       "7557  224271  ToxRefDB   opp_der         -       developmental      NOAEL   \n",
       "7584  222508  ToxRefDB   opp_der         -       developmental      NOAEL   \n",
       "\n",
       "      toxvalNumeric toxvalUnits  \\\n",
       "7552            5.0   mg/kg-day   \n",
       "7557           25.0   mg/kg-day   \n",
       "7584            5.0   mg/kg-day   \n",
       "\n",
       "                                         criticalEffect speciesCommon  \\\n",
       "7552   reproductive performance-resorptions/resorptions        Rabbit   \n",
       "7557  in life observation-body weight/body weight ga...           Rat   \n",
       "7584  in life observation-body weight/body weight|in...        Rabbit   \n",
       "\n",
       "     exposureRoute  \n",
       "7552          oral  \n",
       "7557          oral  \n",
       "7584          oral  "
      ]
     },
     "execution_count": 26,
     "metadata": {},
     "output_type": "execute_result"
    }
   ],
   "source": [
    "dev_noael_df = df.query(\n",
    "    \"(riskAssessmentClass == 'developmental') and (toxvalType == 'NOAEL')\"\n",
    ")\n",
    "dev_noael_df.head(3)"
   ]
  },
  {
   "cell_type": "markdown",
   "id": "747dbb5f-000c-479d-88e9-e647767fb057",
   "metadata": {},
   "source": [
    "I am personally a very visual scientist who would want a figure like this one served up to me to get an idea of the spread of the data from the collected studies. "
   ]
  },
  {
   "cell_type": "code",
   "execution_count": 28,
   "id": "e3fddc02-28f5-487a-8859-6a56941e6d07",
   "metadata": {},
   "outputs": [
    {
     "data": {
      "image/png": "[encoded data removed]",
      "text/plain": [
       "<Figure size 640x480 with 1 Axes>"
      ]
     },
     "metadata": {},
     "output_type": "display_data"
    }
   ],
   "source": [
    "fig, ax = plt.subplots()\n",
    "sns.histplot(dev_noael_df, x='toxvalNumeric', hue='speciesCommon')\n",
    "plt.show()"
   ]
  },
  {
   "cell_type": "markdown",
   "id": "afb1d692-164c-4a44-aa34-3142099532b9",
   "metadata": {},
   "source": [
    "We can always filter our dataframe to look at other study types or criteria. This just illustrates what a useful tool these APIs can be."
   ]
  },
  {
   "cell_type": "markdown",
   "id": "438dd4e5-8809-4b69-9992-d27e04bb5faa",
   "metadata": {},
   "source": [
    "To review:\n",
    "\n",
    "I selected the chemical atrazine due to its use as a common pesticide. The goal was to select and/or develop some tools for characterizing the properties of the chemical. Given the premise of computational toxicology, I decided that simulating a workflow examining properties that a toxicity risk assessor might care about: the bioactivities, in vivo activities, and ADME properties.\n",
    "\n",
    "Tool Set 1: PubChem and Bioactivity data - I built a small wrapper for PubChem's APIs to access bioactivity data and flag it by search terms that might indicate activities of concern. It flagged developmental toxicity, which is definitely of interest.\n",
    "\n",
    "Tool Set 2: PubMed, the literature, and language models - I built a small wrapper for manipulating some of PubMed's APIs to grab recent literature on atrazine and applied an LLM (BioGPT-3) to quickly generate a short statement of key findings. Based on this I was able to hone down to some studies that were relevant to the potential developmental, endocrinal, and ecological hazard. In a risk-assessment context I would want to take a look at those studies because they could provide new sources of data or information.\n",
    "\n",
    "Tool Set 3: Chembl, ADME properties - I built a small wrapper for accessing ChemBL (a data source for pharmaceuticals and therefore containing ADME information) to see if I could find anything on atrazine's absorption, distribution, metabolism, or excretion. It was a modest hit, but we did learn that atrazine has a relatively low (~-5) LogKp, which typically indicates it isn't extremely well absorbed by the skin.\n",
    "\n",
    "Tool Set 4: ToxRef, DCAP, CTX APIs - I built a small wrapper for accessing the CTX APIs to gather information on the in vivo tox data that is currently public. We can take a look at the spread of these studies, always remembering that a deeper analysis is prudent before drawing any real conclusions.\n",
    "\n",
    "Thanks for taking a look at this project! I hope you found it interesting! Please note this was a tool for examining how to access useful computational toxicology data through public APIs and should *not* be used to make any formal statements about any of the data without a proper official assessment!"
   ]
  }
 ],
 "metadata": {
  "kernelspec": {
   "display_name": "Python 3 (ipykernel)",
   "language": "python",
   "name": "python3"
  },
  "language_info": {
   "codemirror_mode": {
    "name": "ipython",
    "version": 3
   },
   "file_extension": ".py",
   "mimetype": "text/x-python",
   "name": "python",
   "nbconvert_exporter": "python",
   "pygments_lexer": "ipython3",
   "version": "3.13.5"
  }
 },
 "nbformat": 4,
 "nbformat_minor": 5
}
